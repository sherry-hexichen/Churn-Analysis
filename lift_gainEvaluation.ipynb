{
  "nbformat": 4,
  "nbformat_minor": 0,
  "metadata": {
    "kernelspec": {
      "display_name": "Python 3",
      "language": "python",
      "name": "python3"
    },
    "language_info": {
      "codemirror_mode": {
        "name": "ipython",
        "version": 3
      },
      "file_extension": ".py",
      "mimetype": "text/x-python",
      "name": "python",
      "nbconvert_exporter": "python",
      "pygments_lexer": "ipython3",
      "version": "3.6.8"
    },
    "colab": {
      "name": "lift/gainEvaluation.ipynb",
      "provenance": [],
      "collapsed_sections": [],
      "include_colab_link": true
    }
  },
  "cells": [
    {
      "cell_type": "markdown",
      "metadata": {
        "id": "view-in-github",
        "colab_type": "text"
      },
      "source": [
        "<a href=\"https://colab.research.google.com/github/sherry-hexichen/Churn-Analysis/blob/master/lift_gainEvaluation.ipynb\" target=\"_parent\"><img src=\"https://colab.research.google.com/assets/colab-badge.svg\" alt=\"Open In Colab\"/></a>"
      ]
    },
    {
      "cell_type": "code",
      "metadata": {
        "id": "OgO5U-QcASDH",
        "colab_type": "code",
        "colab": {}
      },
      "source": [
        "pip install catboost --no-cache-dir"
      ],
      "execution_count": 0,
      "outputs": []
    },
    {
      "cell_type": "code",
      "metadata": {
        "id": "m6Zy-ZnZASDN",
        "colab_type": "code",
        "colab": {}
      },
      "source": [
        "import pandas as pd\n",
        "import numpy as np\n",
        "import catboost\n",
        "from catboost import CatBoostClassifier, Pool"
      ],
      "execution_count": 0,
      "outputs": []
    },
    {
      "cell_type": "code",
      "metadata": {
        "id": "OFnfl-eOBQ5e",
        "colab_type": "code",
        "outputId": "fa0d03da-c8b7-4ed6-c759-b57f157248e2",
        "colab": {
          "resources": {
            "http://localhost:8080/nbextensions/google.colab/files.js": {
              "data": "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",
              "ok": true,
              "headers": [
                [
                  "content-type",
                  "application/javascript"
                ]
              ],
              "status": 200,
              "status_text": ""
            }
          },
          "base_uri": "https://localhost:8080/",
          "height": 74
        }
      },
      "source": [
        "from google.colab import files\n",
        "uploaded = files.upload()"
      ],
      "execution_count": 7,
      "outputs": [
        {
          "output_type": "display_data",
          "data": {
            "text/html": [
              "\n",
              "     <input type=\"file\" id=\"files-d84cb344-ffe9-49e8-b1fa-14033fba900e\" name=\"files[]\" multiple disabled />\n",
              "     <output id=\"result-d84cb344-ffe9-49e8-b1fa-14033fba900e\">\n",
              "      Upload widget is only available when the cell has been executed in the\n",
              "      current browser session. Please rerun this cell to enable.\n",
              "      </output>\n",
              "      <script src=\"/nbextensions/google.colab/files.js\"></script> "
            ],
            "text/plain": [
              "<IPython.core.display.HTML object>"
            ]
          },
          "metadata": {
            "tags": []
          }
        },
        {
          "output_type": "stream",
          "text": [
            "Saving final_data.csv to final_data (1).csv\n"
          ],
          "name": "stdout"
        }
      ]
    },
    {
      "cell_type": "code",
      "metadata": {
        "id": "QQFmNKUsASDQ",
        "colab_type": "code",
        "colab": {}
      },
      "source": [
        "import io\n",
        "dataset = pd.read_csv(io.BytesIO(uploaded['final_data.csv']))"
      ],
      "execution_count": 0,
      "outputs": []
    },
    {
      "cell_type": "code",
      "metadata": {
        "id": "DCsN2oeYGOtv",
        "colab_type": "code",
        "outputId": "2a788fce-9c89-4e38-c8cf-7c89be449302",
        "colab": {
          "base_uri": "https://localhost:8080/",
          "height": 316
        }
      },
      "source": [
        "dataset.head()"
      ],
      "execution_count": 16,
      "outputs": [
        {
          "output_type": "execute_result",
          "data": {
            "text/html": [
              "<div>\n",
              "<style scoped>\n",
              "    .dataframe tbody tr th:only-of-type {\n",
              "        vertical-align: middle;\n",
              "    }\n",
              "\n",
              "    .dataframe tbody tr th {\n",
              "        vertical-align: top;\n",
              "    }\n",
              "\n",
              "    .dataframe thead th {\n",
              "        text-align: right;\n",
              "    }\n",
              "</style>\n",
              "<table border=\"1\" class=\"dataframe\">\n",
              "  <thead>\n",
              "    <tr style=\"text-align: right;\">\n",
              "      <th></th>\n",
              "      <th>Unnamed: 0</th>\n",
              "      <th>id</th>\n",
              "      <th>ro_dealerid</th>\n",
              "      <th>ro_vin</th>\n",
              "      <th>avg_ro_labor_price</th>\n",
              "      <th>avg_ro_parts_price</th>\n",
              "      <th>avg_customerpay</th>\n",
              "      <th>avg_customerpay_value</th>\n",
              "      <th>avg_warrantypay</th>\n",
              "      <th>avg_warrantypay_value</th>\n",
              "      <th>avg_otherpay</th>\n",
              "      <th>avg_otherpay_value</th>\n",
              "      <th>vehicle_warranty_date</th>\n",
              "      <th>vehicle_warranty_mileage</th>\n",
              "      <th>max_ro_mileage</th>\n",
              "      <th>recency</th>\n",
              "      <th>frequency</th>\n",
              "      <th>vehicle_age</th>\n",
              "      <th>last_service_date</th>\n",
              "      <th>cust_postal_code</th>\n",
              "      <th>cust_city</th>\n",
              "      <th>cust_state_code</th>\n",
              "      <th>retained_flag</th>\n",
              "      <th>vehicle_warranty_service_status</th>\n",
              "      <th>market_value</th>\n",
              "      <th>body_class</th>\n",
              "      <th>reliability</th>\n",
              "      <th>luxury</th>\n",
              "      <th>ronum</th>\n",
              "      <th>dealer_postal_code</th>\n",
              "      <th>distance</th>\n",
              "      <th>dealer_location_population</th>\n",
              "      <th>nearby_same_dealer</th>\n",
              "      <th>nearby_third_party</th>\n",
              "    </tr>\n",
              "  </thead>\n",
              "  <tbody>\n",
              "    <tr>\n",
              "      <th>0</th>\n",
              "      <td>0</td>\n",
              "      <td>813621091C6RR6FG6ES377813</td>\n",
              "      <td>5984</td>\n",
              "      <td>1C6RR6FG6ES377813</td>\n",
              "      <td>1621.81</td>\n",
              "      <td>529.75</td>\n",
              "      <td>0.290</td>\n",
              "      <td>647.5062</td>\n",
              "      <td>0.7100</td>\n",
              "      <td>1585.2738</td>\n",
              "      <td>0.0</td>\n",
              "      <td>0.0</td>\n",
              "      <td>2017-08-16T00:00:00.0000000</td>\n",
              "      <td>50000</td>\n",
              "      <td>85100</td>\n",
              "      <td>91</td>\n",
              "      <td>1</td>\n",
              "      <td>4</td>\n",
              "      <td>2018-08-03T00:00:00.0000000</td>\n",
              "      <td>33991</td>\n",
              "      <td>CAPE CORAL</td>\n",
              "      <td>FL</td>\n",
              "      <td>0</td>\n",
              "      <td>0</td>\n",
              "      <td>15829.33</td>\n",
              "      <td>7</td>\n",
              "      <td>58</td>\n",
              "      <td>0</td>\n",
              "      <td>83149</td>\n",
              "      <td>33912</td>\n",
              "      <td>41</td>\n",
              "      <td>79943</td>\n",
              "      <td>0</td>\n",
              "      <td>18</td>\n",
              "    </tr>\n",
              "    <tr>\n",
              "      <th>1</th>\n",
              "      <td>1</td>\n",
              "      <td>741557301C4RJEAGXHC707971</td>\n",
              "      <td>5984</td>\n",
              "      <td>1C4RJEAGXHC707971</td>\n",
              "      <td>20.19</td>\n",
              "      <td>22.50</td>\n",
              "      <td>0.500</td>\n",
              "      <td>31.6000</td>\n",
              "      <td>0.5000</td>\n",
              "      <td>11.5150</td>\n",
              "      <td>0.0</td>\n",
              "      <td>0.0</td>\n",
              "      <td>2020-01-01T00:00:00.0000000</td>\n",
              "      <td>100000</td>\n",
              "      <td>16741</td>\n",
              "      <td>85</td>\n",
              "      <td>2</td>\n",
              "      <td>1</td>\n",
              "      <td>2018-08-09T00:00:00.0000000</td>\n",
              "      <td>34134</td>\n",
              "      <td>Bonita Springs</td>\n",
              "      <td>FL</td>\n",
              "      <td>0</td>\n",
              "      <td>1</td>\n",
              "      <td>25679.75</td>\n",
              "      <td>9</td>\n",
              "      <td>50</td>\n",
              "      <td>0</td>\n",
              "      <td>83149</td>\n",
              "      <td>33912</td>\n",
              "      <td>14</td>\n",
              "      <td>79943</td>\n",
              "      <td>0</td>\n",
              "      <td>18</td>\n",
              "    </tr>\n",
              "    <tr>\n",
              "      <th>2</th>\n",
              "      <td>2</td>\n",
              "      <td>444285992C4RC1GG0DR788071</td>\n",
              "      <td>5984</td>\n",
              "      <td>2C4RC1GG0DR788071</td>\n",
              "      <td>73.03</td>\n",
              "      <td>208.10</td>\n",
              "      <td>0.770</td>\n",
              "      <td>351.7187</td>\n",
              "      <td>0.2325</td>\n",
              "      <td>77.2702</td>\n",
              "      <td>0.0</td>\n",
              "      <td>0.0</td>\n",
              "      <td>2016-01-01T00:00:00.0000000</td>\n",
              "      <td>100000</td>\n",
              "      <td>38798</td>\n",
              "      <td>137</td>\n",
              "      <td>4</td>\n",
              "      <td>5</td>\n",
              "      <td>2018-06-18T00:00:00.0000000</td>\n",
              "      <td>33903</td>\n",
              "      <td>N FT MYERS</td>\n",
              "      <td>FL</td>\n",
              "      <td>0</td>\n",
              "      <td>0</td>\n",
              "      <td>16081.72</td>\n",
              "      <td>6</td>\n",
              "      <td>64</td>\n",
              "      <td>0</td>\n",
              "      <td>83149</td>\n",
              "      <td>33912</td>\n",
              "      <td>27</td>\n",
              "      <td>79943</td>\n",
              "      <td>0</td>\n",
              "      <td>18</td>\n",
              "    </tr>\n",
              "    <tr>\n",
              "      <th>3</th>\n",
              "      <td>3</td>\n",
              "      <td>736167701C3CDFAA3FD435371</td>\n",
              "      <td>5984</td>\n",
              "      <td>1C3CDFAA3FD435371</td>\n",
              "      <td>69.10</td>\n",
              "      <td>0.00</td>\n",
              "      <td>0.250</td>\n",
              "      <td>0.0000</td>\n",
              "      <td>0.7500</td>\n",
              "      <td>112.0850</td>\n",
              "      <td>0.0</td>\n",
              "      <td>0.0</td>\n",
              "      <td>2018-01-01T00:00:00.0000000</td>\n",
              "      <td>50000</td>\n",
              "      <td>28092</td>\n",
              "      <td>91</td>\n",
              "      <td>2</td>\n",
              "      <td>3</td>\n",
              "      <td>2018-08-03T00:00:00.0000000</td>\n",
              "      <td>33914</td>\n",
              "      <td>Cape coral</td>\n",
              "      <td>FL</td>\n",
              "      <td>0</td>\n",
              "      <td>0</td>\n",
              "      <td>11321.47</td>\n",
              "      <td>8</td>\n",
              "      <td>58</td>\n",
              "      <td>0</td>\n",
              "      <td>83149</td>\n",
              "      <td>33912</td>\n",
              "      <td>4</td>\n",
              "      <td>79943</td>\n",
              "      <td>0</td>\n",
              "      <td>18</td>\n",
              "    </tr>\n",
              "    <tr>\n",
              "      <th>4</th>\n",
              "      <td>4</td>\n",
              "      <td>119974743D4PG5FV0AT231062</td>\n",
              "      <td>5984</td>\n",
              "      <td>3D4PG5FV0AT231062</td>\n",
              "      <td>144.02</td>\n",
              "      <td>139.40</td>\n",
              "      <td>0.834</td>\n",
              "      <td>380.4981</td>\n",
              "      <td>0.1660</td>\n",
              "      <td>93.6399</td>\n",
              "      <td>0.0</td>\n",
              "      <td>0.0</td>\n",
              "      <td>2014-01-14T00:00:00.0000000</td>\n",
              "      <td>50000</td>\n",
              "      <td>59394</td>\n",
              "      <td>141</td>\n",
              "      <td>5</td>\n",
              "      <td>8</td>\n",
              "      <td>2018-06-14T00:00:00.0000000</td>\n",
              "      <td>33957</td>\n",
              "      <td>SANIBEL</td>\n",
              "      <td>FL</td>\n",
              "      <td>0</td>\n",
              "      <td>0</td>\n",
              "      <td>7458.59</td>\n",
              "      <td>4</td>\n",
              "      <td>58</td>\n",
              "      <td>0</td>\n",
              "      <td>83149</td>\n",
              "      <td>33912</td>\n",
              "      <td>59</td>\n",
              "      <td>79943</td>\n",
              "      <td>0</td>\n",
              "      <td>18</td>\n",
              "    </tr>\n",
              "  </tbody>\n",
              "</table>\n",
              "</div>"
            ],
            "text/plain": [
              "   Unnamed: 0  ... nearby_third_party\n",
              "0           0  ...                 18\n",
              "1           1  ...                 18\n",
              "2           2  ...                 18\n",
              "3           3  ...                 18\n",
              "4           4  ...                 18\n",
              "\n",
              "[5 rows x 34 columns]"
            ]
          },
          "metadata": {
            "tags": []
          },
          "execution_count": 16
        }
      ]
    },
    {
      "cell_type": "code",
      "metadata": {
        "id": "qKZft-K_ASDW",
        "colab_type": "code",
        "colab": {}
      },
      "source": [
        "dataset = dataset.drop(['Unnamed: 0', 'id'], axis=1)\n",
        "dataset = dataset[dataset['retained_flag'] != 2]"
      ],
      "execution_count": 0,
      "outputs": []
    },
    {
      "cell_type": "code",
      "metadata": {
        "id": "SGSIBFwHASDZ",
        "colab_type": "code",
        "outputId": "c18e1f89-f1e6-4796-ba38-db7fc6743089",
        "colab": {
          "base_uri": "https://localhost:8080/",
          "height": 202
        }
      },
      "source": [
        "dataset.columns"
      ],
      "execution_count": 18,
      "outputs": [
        {
          "output_type": "execute_result",
          "data": {
            "text/plain": [
              "Index(['ro_dealerid', 'ro_vin', 'avg_ro_labor_price', 'avg_ro_parts_price',\n",
              "       'avg_customerpay', 'avg_customerpay_value', 'avg_warrantypay',\n",
              "       'avg_warrantypay_value', 'avg_otherpay', 'avg_otherpay_value',\n",
              "       'vehicle_warranty_date', 'vehicle_warranty_mileage', 'max_ro_mileage',\n",
              "       'recency', 'frequency', 'vehicle_age', 'last_service_date',\n",
              "       'cust_postal_code', 'cust_city', 'cust_state_code', 'retained_flag',\n",
              "       'vehicle_warranty_service_status', 'market_value', 'body_class',\n",
              "       'reliability', 'luxury', 'ronum', 'dealer_postal_code', 'distance',\n",
              "       'dealer_location_population', 'nearby_same_dealer',\n",
              "       'nearby_third_party'],\n",
              "      dtype='object')"
            ]
          },
          "metadata": {
            "tags": []
          },
          "execution_count": 18
        }
      ]
    },
    {
      "cell_type": "code",
      "metadata": {
        "id": "1terzHvTASDd",
        "colab_type": "code",
        "colab": {}
      },
      "source": [
        "numVar = ['avg_ro_labor_price', 'avg_ro_parts_price', 'avg_customerpay', 'avg_customerpay_value',\n",
        "       'avg_warrantypay', 'avg_warrantypay_value', 'avg_otherpay',\n",
        "       'avg_otherpay_value','vehicle_warranty_mileage', 'max_ro_mileage','recency',\n",
        "       'frequency', 'vehicle_age','market_value','reliability','distance']\n",
        "catVar = ['vehicle_warranty_service_status','body_class','luxury',\n",
        "                  'ronum','dealer_location_population','nearby_same_dealer', 'nearby_third_party']"
      ],
      "execution_count": 0,
      "outputs": []
    },
    {
      "cell_type": "code",
      "metadata": {
        "id": "4HpMvGD6ASDg",
        "colab_type": "code",
        "colab": {}
      },
      "source": [
        "features = dataset[['avg_ro_labor_price', 'avg_ro_parts_price', 'avg_customerpay', 'avg_customerpay_value',\n",
        "       'avg_warrantypay', 'avg_warrantypay_value', 'avg_otherpay',\n",
        "       'avg_otherpay_value','vehicle_warranty_mileage', 'max_ro_mileage','recency',\n",
        "       'frequency', 'vehicle_age','market_value','reliability','distance',\n",
        "       'vehicle_warranty_service_status','body_class','luxury',\n",
        "                  'ronum','dealer_location_population','nearby_same_dealer', 'nearby_third_party']]\n",
        "target = dataset[['retained_flag']]"
      ],
      "execution_count": 0,
      "outputs": []
    },
    {
      "cell_type": "code",
      "metadata": {
        "id": "bUNYtLELPOoX",
        "colab_type": "code",
        "outputId": "ecd60826-0c97-4680-eb31-c50617f81ec4",
        "colab": {
          "base_uri": "https://localhost:8080/",
          "height": 420
        }
      },
      "source": [
        "features.dtypes"
      ],
      "execution_count": 21,
      "outputs": [
        {
          "output_type": "execute_result",
          "data": {
            "text/plain": [
              "avg_ro_labor_price                 float64\n",
              "avg_ro_parts_price                 float64\n",
              "avg_customerpay                    float64\n",
              "avg_customerpay_value              float64\n",
              "avg_warrantypay                    float64\n",
              "avg_warrantypay_value              float64\n",
              "avg_otherpay                       float64\n",
              "avg_otherpay_value                 float64\n",
              "vehicle_warranty_mileage             int64\n",
              "max_ro_mileage                       int64\n",
              "recency                              int64\n",
              "frequency                            int64\n",
              "vehicle_age                          int64\n",
              "market_value                       float64\n",
              "reliability                          int64\n",
              "distance                             int64\n",
              "vehicle_warranty_service_status      int64\n",
              "body_class                           int64\n",
              "luxury                               int64\n",
              "ronum                                int64\n",
              "dealer_location_population           int64\n",
              "nearby_same_dealer                   int64\n",
              "nearby_third_party                   int64\n",
              "dtype: object"
            ]
          },
          "metadata": {
            "tags": []
          },
          "execution_count": 21
        }
      ]
    },
    {
      "cell_type": "code",
      "metadata": {
        "id": "niuTze9KPZfF",
        "colab_type": "code",
        "colab": {}
      },
      "source": [
        "features['vehicle_warranty_service_status'] = pd.Categorical(features.vehicle_warranty_service_status)\n",
        "features['body_class'] = pd.Categorical(features.body_class)\n",
        "features['luxury'] = pd.Categorical(features.luxury)\n",
        "features['ronum'] = pd.Categorical(features.ronum)\n",
        "features['dealer_location_population'] = pd.Categorical(features.dealer_location_population)\n",
        "features['nearby_same_dealer'] = pd.Categorical(features.nearby_same_dealer)\n",
        "features['nearby_third_party'] = pd.Categorical(features.nearby_third_party)"
      ],
      "execution_count": 0,
      "outputs": []
    },
    {
      "cell_type": "code",
      "metadata": {
        "id": "NXtOltuYLSGQ",
        "colab_type": "code",
        "outputId": "a56ea593-8706-4f49-9d57-e545b6e51bfa",
        "colab": {
          "base_uri": "https://localhost:8080/",
          "height": 34
        }
      },
      "source": [
        "catFeatureIndex = np.array([features.columns.get_loc(var) for var in catVar if var in features])\n",
        "catFeatureIndex"
      ],
      "execution_count": 23,
      "outputs": [
        {
          "output_type": "execute_result",
          "data": {
            "text/plain": [
              "array([16, 17, 18, 19, 20, 21, 22])"
            ]
          },
          "metadata": {
            "tags": []
          },
          "execution_count": 23
        }
      ]
    },
    {
      "cell_type": "code",
      "metadata": {
        "id": "cvnRfktpASDo",
        "colab_type": "code",
        "colab": {}
      },
      "source": [
        "from sklearn.model_selection import train_test_split\n",
        "X_train, X_test, Y_train, Y_test = train_test_split(features, target, test_size=0.30, random_state=0, stratify = target)"
      ],
      "execution_count": 0,
      "outputs": []
    },
    {
      "cell_type": "code",
      "metadata": {
        "id": "6B2tPxemASDr",
        "colab_type": "code",
        "colab": {}
      },
      "source": [
        "model = CatBoostClassifier()"
      ],
      "execution_count": 0,
      "outputs": []
    },
    {
      "cell_type": "code",
      "metadata": {
        "id": "9pkVRg1GErKZ",
        "colab_type": "code",
        "colab": {}
      },
      "source": [
        "model.fit(X_train, Y_train, cat_features=catFeatureIndex)"
      ],
      "execution_count": 0,
      "outputs": []
    },
    {
      "cell_type": "code",
      "metadata": {
        "id": "cwNmemNLS4cZ",
        "colab_type": "code",
        "outputId": "c4644643-6f9c-441b-f90d-6282843d6477",
        "colab": {
          "base_uri": "https://localhost:8080/",
          "height": 151
        }
      },
      "source": [
        "# make the prediction using the resulting model\n",
        "preds_class = model.predict(X_test)\n",
        "\n",
        "preds_proba = model.predict_proba(X_test)\n",
        "print(\"class = \", preds_class)\n",
        "print(\"proba = \", preds_proba)"
      ],
      "execution_count": 27,
      "outputs": [
        {
          "output_type": "stream",
          "text": [
            "class =  [1 1 1 ... 1 0 1]\n",
            "proba =  [[0.4325868  0.5674132 ]\n",
            " [0.26021876 0.73978124]\n",
            " [0.39427796 0.60572204]\n",
            " ...\n",
            " [0.30277231 0.69722769]\n",
            " [0.55173079 0.44826921]\n",
            " [0.44922101 0.55077899]]\n"
          ],
          "name": "stdout"
        }
      ]
    },
    {
      "cell_type": "code",
      "metadata": {
        "id": "uZu_W6S-ErOJ",
        "colab_type": "code",
        "colab": {}
      },
      "source": [
        "from sklearn.metrics import confusion_matrix\n",
        "def CreateConfusion(Y_test,Y_pred,text='initial'):\n",
        "\n",
        "    cm = confusion_matrix(Y_test,Y_pred)\n",
        "    print(cm)\n",
        "\n",
        "    accuracy = (cm[0,0]+cm[1,1]) / cm.sum()\n",
        "    specificity = cm[1,1] / (cm[1,0] + cm[1,1])\n",
        "    sensitivity = cm[0,0] / (cm[0,1] + cm[0,0])\n",
        "\n",
        "    print(\"The metrics for the %s Model are: \\n Accuracy: %f \\n Specificity: %f \\n Sensitivity: %f\" % (text,accuracy,specificity,sensitivity) )\n",
        "    \n",
        "    return cm"
      ],
      "execution_count": 0,
      "outputs": []
    },
    {
      "cell_type": "code",
      "metadata": {
        "id": "74858n8lSypY",
        "colab_type": "code",
        "colab": {
          "base_uri": "https://localhost:8080/",
          "height": 151
        },
        "outputId": "11a4f510-b976-4b4d-b705-983c09d8e09f"
      },
      "source": [
        "CreateConfusion(Y_test, preds_class)"
      ],
      "execution_count": 29,
      "outputs": [
        {
          "output_type": "stream",
          "text": [
            "[[ 7851 16465]\n",
            " [ 2328 26121]]\n",
            "The metrics for the initial Model are: \n",
            " Accuracy: 0.643836 \n",
            " Specificity: 0.918169 \n",
            " Sensitivity: 0.322874\n"
          ],
          "name": "stdout"
        },
        {
          "output_type": "execute_result",
          "data": {
            "text/plain": [
              "array([[ 7851, 16465],\n",
              "       [ 2328, 26121]])"
            ]
          },
          "metadata": {
            "tags": []
          },
          "execution_count": 29
        }
      ]
    },
    {
      "cell_type": "code",
      "metadata": {
        "id": "PdtKef-cDs9T",
        "colab_type": "code",
        "colab": {}
      },
      "source": [
        ""
      ],
      "execution_count": 0,
      "outputs": []
    },
    {
      "cell_type": "code",
      "metadata": {
        "id": "SgsDwaGMqGqm",
        "colab_type": "code",
        "colab": {}
      },
      "source": [
        "panel = features.copy()\n",
        "panel['retained_flag'] = target"
      ],
      "execution_count": 0,
      "outputs": []
    },
    {
      "cell_type": "code",
      "metadata": {
        "id": "w739v_I-rj1o",
        "colab_type": "code",
        "colab": {}
      },
      "source": [
        "panel_proba = model.predict_proba(features)"
      ],
      "execution_count": 0,
      "outputs": []
    },
    {
      "cell_type": "code",
      "metadata": {
        "id": "7RZJWcJSslSB",
        "colab_type": "code",
        "colab": {}
      },
      "source": [
        "panel_pred_class = model.predict(features)"
      ],
      "execution_count": 0,
      "outputs": []
    },
    {
      "cell_type": "code",
      "metadata": {
        "id": "5Dra3CjXaBlB",
        "colab_type": "code",
        "colab": {}
      },
      "source": [
        "panel_pred_class = list(panel_pred_class)"
      ],
      "execution_count": 0,
      "outputs": []
    },
    {
      "cell_type": "code",
      "metadata": {
        "id": "VrzwbBcSr6HX",
        "colab_type": "code",
        "colab": {}
      },
      "source": [
        "pred_loss_prob = []\n",
        "for p in range(len(panel_proba)):\n",
        "  pred_loss_prob.append(panel_proba[p][0])"
      ],
      "execution_count": 0,
      "outputs": []
    },
    {
      "cell_type": "code",
      "metadata": {
        "id": "EhgRMVNlr6GN",
        "colab_type": "code",
        "colab": {}
      },
      "source": [
        "panel['predLossProb'] = pred_loss_prob\n",
        "panel['predClass'] = panel_pred_class"
      ],
      "execution_count": 0,
      "outputs": []
    },
    {
      "cell_type": "code",
      "metadata": {
        "id": "iypmgHgstnfQ",
        "colab_type": "code",
        "outputId": "ebb10a6f-69ee-4a53-8a98-6492a7f7990b",
        "colab": {
          "base_uri": "https://localhost:8080/",
          "height": 215
        }
      },
      "source": [
        "panel.head()"
      ],
      "execution_count": 43,
      "outputs": [
        {
          "output_type": "execute_result",
          "data": {
            "text/html": [
              "<div>\n",
              "<style scoped>\n",
              "    .dataframe tbody tr th:only-of-type {\n",
              "        vertical-align: middle;\n",
              "    }\n",
              "\n",
              "    .dataframe tbody tr th {\n",
              "        vertical-align: top;\n",
              "    }\n",
              "\n",
              "    .dataframe thead th {\n",
              "        text-align: right;\n",
              "    }\n",
              "</style>\n",
              "<table border=\"1\" class=\"dataframe\">\n",
              "  <thead>\n",
              "    <tr style=\"text-align: right;\">\n",
              "      <th></th>\n",
              "      <th>avg_ro_labor_price</th>\n",
              "      <th>avg_ro_parts_price</th>\n",
              "      <th>avg_customerpay</th>\n",
              "      <th>avg_customerpay_value</th>\n",
              "      <th>avg_warrantypay</th>\n",
              "      <th>avg_warrantypay_value</th>\n",
              "      <th>avg_otherpay</th>\n",
              "      <th>avg_otherpay_value</th>\n",
              "      <th>vehicle_warranty_mileage</th>\n",
              "      <th>max_ro_mileage</th>\n",
              "      <th>recency</th>\n",
              "      <th>frequency</th>\n",
              "      <th>vehicle_age</th>\n",
              "      <th>market_value</th>\n",
              "      <th>reliability</th>\n",
              "      <th>distance</th>\n",
              "      <th>vehicle_warranty_service_status</th>\n",
              "      <th>body_class</th>\n",
              "      <th>luxury</th>\n",
              "      <th>ronum</th>\n",
              "      <th>dealer_location_population</th>\n",
              "      <th>nearby_same_dealer</th>\n",
              "      <th>nearby_third_party</th>\n",
              "      <th>retained_flag</th>\n",
              "      <th>predLossProb</th>\n",
              "      <th>predClass</th>\n",
              "    </tr>\n",
              "  </thead>\n",
              "  <tbody>\n",
              "    <tr>\n",
              "      <th>0</th>\n",
              "      <td>1621.81</td>\n",
              "      <td>529.75</td>\n",
              "      <td>0.290</td>\n",
              "      <td>647.5062</td>\n",
              "      <td>0.7100</td>\n",
              "      <td>1585.2738</td>\n",
              "      <td>0.0</td>\n",
              "      <td>0.0</td>\n",
              "      <td>50000</td>\n",
              "      <td>85100</td>\n",
              "      <td>91</td>\n",
              "      <td>1</td>\n",
              "      <td>4</td>\n",
              "      <td>15829.33</td>\n",
              "      <td>58</td>\n",
              "      <td>41</td>\n",
              "      <td>0</td>\n",
              "      <td>7</td>\n",
              "      <td>0</td>\n",
              "      <td>83149</td>\n",
              "      <td>79943</td>\n",
              "      <td>0</td>\n",
              "      <td>18</td>\n",
              "      <td>0</td>\n",
              "      <td>0.833619</td>\n",
              "      <td>0</td>\n",
              "    </tr>\n",
              "    <tr>\n",
              "      <th>1</th>\n",
              "      <td>20.19</td>\n",
              "      <td>22.50</td>\n",
              "      <td>0.500</td>\n",
              "      <td>31.6000</td>\n",
              "      <td>0.5000</td>\n",
              "      <td>11.5150</td>\n",
              "      <td>0.0</td>\n",
              "      <td>0.0</td>\n",
              "      <td>100000</td>\n",
              "      <td>16741</td>\n",
              "      <td>85</td>\n",
              "      <td>2</td>\n",
              "      <td>1</td>\n",
              "      <td>25679.75</td>\n",
              "      <td>50</td>\n",
              "      <td>14</td>\n",
              "      <td>1</td>\n",
              "      <td>9</td>\n",
              "      <td>0</td>\n",
              "      <td>83149</td>\n",
              "      <td>79943</td>\n",
              "      <td>0</td>\n",
              "      <td>18</td>\n",
              "      <td>0</td>\n",
              "      <td>0.451897</td>\n",
              "      <td>1</td>\n",
              "    </tr>\n",
              "    <tr>\n",
              "      <th>2</th>\n",
              "      <td>73.03</td>\n",
              "      <td>208.10</td>\n",
              "      <td>0.770</td>\n",
              "      <td>351.7187</td>\n",
              "      <td>0.2325</td>\n",
              "      <td>77.2702</td>\n",
              "      <td>0.0</td>\n",
              "      <td>0.0</td>\n",
              "      <td>100000</td>\n",
              "      <td>38798</td>\n",
              "      <td>137</td>\n",
              "      <td>4</td>\n",
              "      <td>5</td>\n",
              "      <td>16081.72</td>\n",
              "      <td>64</td>\n",
              "      <td>27</td>\n",
              "      <td>0</td>\n",
              "      <td>6</td>\n",
              "      <td>0</td>\n",
              "      <td>83149</td>\n",
              "      <td>79943</td>\n",
              "      <td>0</td>\n",
              "      <td>18</td>\n",
              "      <td>0</td>\n",
              "      <td>0.545732</td>\n",
              "      <td>0</td>\n",
              "    </tr>\n",
              "    <tr>\n",
              "      <th>3</th>\n",
              "      <td>69.10</td>\n",
              "      <td>0.00</td>\n",
              "      <td>0.250</td>\n",
              "      <td>0.0000</td>\n",
              "      <td>0.7500</td>\n",
              "      <td>112.0850</td>\n",
              "      <td>0.0</td>\n",
              "      <td>0.0</td>\n",
              "      <td>50000</td>\n",
              "      <td>28092</td>\n",
              "      <td>91</td>\n",
              "      <td>2</td>\n",
              "      <td>3</td>\n",
              "      <td>11321.47</td>\n",
              "      <td>58</td>\n",
              "      <td>4</td>\n",
              "      <td>0</td>\n",
              "      <td>8</td>\n",
              "      <td>0</td>\n",
              "      <td>83149</td>\n",
              "      <td>79943</td>\n",
              "      <td>0</td>\n",
              "      <td>18</td>\n",
              "      <td>0</td>\n",
              "      <td>0.870507</td>\n",
              "      <td>0</td>\n",
              "    </tr>\n",
              "    <tr>\n",
              "      <th>4</th>\n",
              "      <td>144.02</td>\n",
              "      <td>139.40</td>\n",
              "      <td>0.834</td>\n",
              "      <td>380.4981</td>\n",
              "      <td>0.1660</td>\n",
              "      <td>93.6399</td>\n",
              "      <td>0.0</td>\n",
              "      <td>0.0</td>\n",
              "      <td>50000</td>\n",
              "      <td>59394</td>\n",
              "      <td>141</td>\n",
              "      <td>5</td>\n",
              "      <td>8</td>\n",
              "      <td>7458.59</td>\n",
              "      <td>58</td>\n",
              "      <td>59</td>\n",
              "      <td>0</td>\n",
              "      <td>4</td>\n",
              "      <td>0</td>\n",
              "      <td>83149</td>\n",
              "      <td>79943</td>\n",
              "      <td>0</td>\n",
              "      <td>18</td>\n",
              "      <td>0</td>\n",
              "      <td>0.607869</td>\n",
              "      <td>0</td>\n",
              "    </tr>\n",
              "  </tbody>\n",
              "</table>\n",
              "</div>"
            ],
            "text/plain": [
              "   avg_ro_labor_price  avg_ro_parts_price  ...  predLossProb  predClass\n",
              "0             1621.81              529.75  ...      0.833619          0\n",
              "1               20.19               22.50  ...      0.451897          1\n",
              "2               73.03              208.10  ...      0.545732          0\n",
              "3               69.10                0.00  ...      0.870507          0\n",
              "4              144.02              139.40  ...      0.607869          0\n",
              "\n",
              "[5 rows x 26 columns]"
            ]
          },
          "metadata": {
            "tags": []
          },
          "execution_count": 43
        }
      ]
    },
    {
      "cell_type": "code",
      "metadata": {
        "id": "vWTU14Gsrknc",
        "colab_type": "code",
        "colab": {}
      },
      "source": [
        "sortPanel = panel.sort_values(\"predLossProb\", ascending = False)"
      ],
      "execution_count": 0,
      "outputs": []
    },
    {
      "cell_type": "code",
      "metadata": {
        "id": "3HtRrxacuMQp",
        "colab_type": "code",
        "outputId": "8843d637-756b-46b9-b798-bec03a05122d",
        "colab": {
          "base_uri": "https://localhost:8080/",
          "height": 215
        }
      },
      "source": [
        "decilePanel = panel.copy()\n",
        "decilePanel['decile'] = pd.qcut(decilePanel['predLossProb'], 10, labels=False)\n",
        "decilePanel.head()"
      ],
      "execution_count": 45,
      "outputs": [
        {
          "output_type": "execute_result",
          "data": {
            "text/html": [
              "<div>\n",
              "<style scoped>\n",
              "    .dataframe tbody tr th:only-of-type {\n",
              "        vertical-align: middle;\n",
              "    }\n",
              "\n",
              "    .dataframe tbody tr th {\n",
              "        vertical-align: top;\n",
              "    }\n",
              "\n",
              "    .dataframe thead th {\n",
              "        text-align: right;\n",
              "    }\n",
              "</style>\n",
              "<table border=\"1\" class=\"dataframe\">\n",
              "  <thead>\n",
              "    <tr style=\"text-align: right;\">\n",
              "      <th></th>\n",
              "      <th>avg_ro_labor_price</th>\n",
              "      <th>avg_ro_parts_price</th>\n",
              "      <th>avg_customerpay</th>\n",
              "      <th>avg_customerpay_value</th>\n",
              "      <th>avg_warrantypay</th>\n",
              "      <th>avg_warrantypay_value</th>\n",
              "      <th>avg_otherpay</th>\n",
              "      <th>avg_otherpay_value</th>\n",
              "      <th>vehicle_warranty_mileage</th>\n",
              "      <th>max_ro_mileage</th>\n",
              "      <th>recency</th>\n",
              "      <th>frequency</th>\n",
              "      <th>vehicle_age</th>\n",
              "      <th>market_value</th>\n",
              "      <th>reliability</th>\n",
              "      <th>distance</th>\n",
              "      <th>vehicle_warranty_service_status</th>\n",
              "      <th>body_class</th>\n",
              "      <th>luxury</th>\n",
              "      <th>ronum</th>\n",
              "      <th>dealer_location_population</th>\n",
              "      <th>nearby_same_dealer</th>\n",
              "      <th>nearby_third_party</th>\n",
              "      <th>retained_flag</th>\n",
              "      <th>predLossProb</th>\n",
              "      <th>predClass</th>\n",
              "      <th>decile</th>\n",
              "    </tr>\n",
              "  </thead>\n",
              "  <tbody>\n",
              "    <tr>\n",
              "      <th>0</th>\n",
              "      <td>1621.81</td>\n",
              "      <td>529.75</td>\n",
              "      <td>0.290</td>\n",
              "      <td>647.5062</td>\n",
              "      <td>0.7100</td>\n",
              "      <td>1585.2738</td>\n",
              "      <td>0.0</td>\n",
              "      <td>0.0</td>\n",
              "      <td>50000</td>\n",
              "      <td>85100</td>\n",
              "      <td>91</td>\n",
              "      <td>1</td>\n",
              "      <td>4</td>\n",
              "      <td>15829.33</td>\n",
              "      <td>58</td>\n",
              "      <td>41</td>\n",
              "      <td>0</td>\n",
              "      <td>7</td>\n",
              "      <td>0</td>\n",
              "      <td>83149</td>\n",
              "      <td>79943</td>\n",
              "      <td>0</td>\n",
              "      <td>18</td>\n",
              "      <td>0</td>\n",
              "      <td>0.833619</td>\n",
              "      <td>0</td>\n",
              "      <td>9</td>\n",
              "    </tr>\n",
              "    <tr>\n",
              "      <th>1</th>\n",
              "      <td>20.19</td>\n",
              "      <td>22.50</td>\n",
              "      <td>0.500</td>\n",
              "      <td>31.6000</td>\n",
              "      <td>0.5000</td>\n",
              "      <td>11.5150</td>\n",
              "      <td>0.0</td>\n",
              "      <td>0.0</td>\n",
              "      <td>100000</td>\n",
              "      <td>16741</td>\n",
              "      <td>85</td>\n",
              "      <td>2</td>\n",
              "      <td>1</td>\n",
              "      <td>25679.75</td>\n",
              "      <td>50</td>\n",
              "      <td>14</td>\n",
              "      <td>1</td>\n",
              "      <td>9</td>\n",
              "      <td>0</td>\n",
              "      <td>83149</td>\n",
              "      <td>79943</td>\n",
              "      <td>0</td>\n",
              "      <td>18</td>\n",
              "      <td>0</td>\n",
              "      <td>0.451897</td>\n",
              "      <td>1</td>\n",
              "      <td>7</td>\n",
              "    </tr>\n",
              "    <tr>\n",
              "      <th>2</th>\n",
              "      <td>73.03</td>\n",
              "      <td>208.10</td>\n",
              "      <td>0.770</td>\n",
              "      <td>351.7187</td>\n",
              "      <td>0.2325</td>\n",
              "      <td>77.2702</td>\n",
              "      <td>0.0</td>\n",
              "      <td>0.0</td>\n",
              "      <td>100000</td>\n",
              "      <td>38798</td>\n",
              "      <td>137</td>\n",
              "      <td>4</td>\n",
              "      <td>5</td>\n",
              "      <td>16081.72</td>\n",
              "      <td>64</td>\n",
              "      <td>27</td>\n",
              "      <td>0</td>\n",
              "      <td>6</td>\n",
              "      <td>0</td>\n",
              "      <td>83149</td>\n",
              "      <td>79943</td>\n",
              "      <td>0</td>\n",
              "      <td>18</td>\n",
              "      <td>0</td>\n",
              "      <td>0.545732</td>\n",
              "      <td>0</td>\n",
              "      <td>8</td>\n",
              "    </tr>\n",
              "    <tr>\n",
              "      <th>3</th>\n",
              "      <td>69.10</td>\n",
              "      <td>0.00</td>\n",
              "      <td>0.250</td>\n",
              "      <td>0.0000</td>\n",
              "      <td>0.7500</td>\n",
              "      <td>112.0850</td>\n",
              "      <td>0.0</td>\n",
              "      <td>0.0</td>\n",
              "      <td>50000</td>\n",
              "      <td>28092</td>\n",
              "      <td>91</td>\n",
              "      <td>2</td>\n",
              "      <td>3</td>\n",
              "      <td>11321.47</td>\n",
              "      <td>58</td>\n",
              "      <td>4</td>\n",
              "      <td>0</td>\n",
              "      <td>8</td>\n",
              "      <td>0</td>\n",
              "      <td>83149</td>\n",
              "      <td>79943</td>\n",
              "      <td>0</td>\n",
              "      <td>18</td>\n",
              "      <td>0</td>\n",
              "      <td>0.870507</td>\n",
              "      <td>0</td>\n",
              "      <td>9</td>\n",
              "    </tr>\n",
              "    <tr>\n",
              "      <th>4</th>\n",
              "      <td>144.02</td>\n",
              "      <td>139.40</td>\n",
              "      <td>0.834</td>\n",
              "      <td>380.4981</td>\n",
              "      <td>0.1660</td>\n",
              "      <td>93.6399</td>\n",
              "      <td>0.0</td>\n",
              "      <td>0.0</td>\n",
              "      <td>50000</td>\n",
              "      <td>59394</td>\n",
              "      <td>141</td>\n",
              "      <td>5</td>\n",
              "      <td>8</td>\n",
              "      <td>7458.59</td>\n",
              "      <td>58</td>\n",
              "      <td>59</td>\n",
              "      <td>0</td>\n",
              "      <td>4</td>\n",
              "      <td>0</td>\n",
              "      <td>83149</td>\n",
              "      <td>79943</td>\n",
              "      <td>0</td>\n",
              "      <td>18</td>\n",
              "      <td>0</td>\n",
              "      <td>0.607869</td>\n",
              "      <td>0</td>\n",
              "      <td>8</td>\n",
              "    </tr>\n",
              "  </tbody>\n",
              "</table>\n",
              "</div>"
            ],
            "text/plain": [
              "   avg_ro_labor_price  avg_ro_parts_price  ...  predClass  decile\n",
              "0             1621.81              529.75  ...          0       9\n",
              "1               20.19               22.50  ...          1       7\n",
              "2               73.03              208.10  ...          0       8\n",
              "3               69.10                0.00  ...          0       9\n",
              "4              144.02              139.40  ...          0       8\n",
              "\n",
              "[5 rows x 27 columns]"
            ]
          },
          "metadata": {
            "tags": []
          },
          "execution_count": 45
        }
      ]
    },
    {
      "cell_type": "code",
      "metadata": {
        "id": "awdN3vGuOWfl",
        "colab_type": "code",
        "colab": {}
      },
      "source": [
        ""
      ],
      "execution_count": 0,
      "outputs": []
    },
    {
      "cell_type": "code",
      "metadata": {
        "id": "yYkQFJOczyn5",
        "colab_type": "code",
        "colab": {}
      },
      "source": [
        "calculate = pd.DataFrame()"
      ],
      "execution_count": 0,
      "outputs": []
    },
    {
      "cell_type": "code",
      "metadata": {
        "id": "Lv7bksSl2Oqb",
        "colab_type": "code",
        "colab": {}
      },
      "source": [
        "minProb = list(decilePanel.groupby(['decile'])['predLossProb'].min())"
      ],
      "execution_count": 0,
      "outputs": []
    },
    {
      "cell_type": "code",
      "metadata": {
        "id": "-mDxURmW36P8",
        "colab_type": "code",
        "colab": {}
      },
      "source": [
        "calculate['minProb'] = minProb"
      ],
      "execution_count": 0,
      "outputs": []
    },
    {
      "cell_type": "code",
      "metadata": {
        "id": "9A4aeZs41xFo",
        "colab_type": "code",
        "colab": {}
      },
      "source": [
        "maxProb = list(decilePanel.groupby(['decile'])['predLossProb'].max())\n",
        "calculate['maxProb'] = maxProb"
      ],
      "execution_count": 0,
      "outputs": []
    },
    {
      "cell_type": "code",
      "metadata": {
        "id": "rcQTFTuA4OY6",
        "colab_type": "code",
        "colab": {}
      },
      "source": [
        "numOfCust = list(decilePanel.groupby(['decile']).size())\n",
        "calculate['numOfCustomer'] = numOfCust"
      ],
      "execution_count": 0,
      "outputs": []
    },
    {
      "cell_type": "code",
      "metadata": {
        "id": "jrPGlAembZ-1",
        "colab_type": "code",
        "colab": {
          "base_uri": "https://localhost:8080/",
          "height": 343
        },
        "outputId": "e3941a43-3784-4d57-b72c-3f71fb25121c"
      },
      "source": [
        "calculate"
      ],
      "execution_count": 54,
      "outputs": [
        {
          "output_type": "execute_result",
          "data": {
            "text/html": [
              "<div>\n",
              "<style scoped>\n",
              "    .dataframe tbody tr th:only-of-type {\n",
              "        vertical-align: middle;\n",
              "    }\n",
              "\n",
              "    .dataframe tbody tr th {\n",
              "        vertical-align: top;\n",
              "    }\n",
              "\n",
              "    .dataframe thead th {\n",
              "        text-align: right;\n",
              "    }\n",
              "</style>\n",
              "<table border=\"1\" class=\"dataframe\">\n",
              "  <thead>\n",
              "    <tr style=\"text-align: right;\">\n",
              "      <th></th>\n",
              "      <th>minProb</th>\n",
              "      <th>maxProb</th>\n",
              "      <th>numOfCustomer</th>\n",
              "    </tr>\n",
              "  </thead>\n",
              "  <tbody>\n",
              "    <tr>\n",
              "      <th>0</th>\n",
              "      <td>0.011831</td>\n",
              "      <td>0.309576</td>\n",
              "      <td>17591</td>\n",
              "    </tr>\n",
              "    <tr>\n",
              "      <th>1</th>\n",
              "      <td>0.309578</td>\n",
              "      <td>0.335639</td>\n",
              "      <td>17588</td>\n",
              "    </tr>\n",
              "    <tr>\n",
              "      <th>2</th>\n",
              "      <td>0.335641</td>\n",
              "      <td>0.381902</td>\n",
              "      <td>17587</td>\n",
              "    </tr>\n",
              "    <tr>\n",
              "      <th>3</th>\n",
              "      <td>0.381907</td>\n",
              "      <td>0.399118</td>\n",
              "      <td>17587</td>\n",
              "    </tr>\n",
              "    <tr>\n",
              "      <th>4</th>\n",
              "      <td>0.399118</td>\n",
              "      <td>0.412899</td>\n",
              "      <td>17588</td>\n",
              "    </tr>\n",
              "    <tr>\n",
              "      <th>5</th>\n",
              "      <td>0.412903</td>\n",
              "      <td>0.434612</td>\n",
              "      <td>17588</td>\n",
              "    </tr>\n",
              "    <tr>\n",
              "      <th>6</th>\n",
              "      <td>0.434616</td>\n",
              "      <td>0.450827</td>\n",
              "      <td>17588</td>\n",
              "    </tr>\n",
              "    <tr>\n",
              "      <th>7</th>\n",
              "      <td>0.450829</td>\n",
              "      <td>0.482859</td>\n",
              "      <td>17591</td>\n",
              "    </tr>\n",
              "    <tr>\n",
              "      <th>8</th>\n",
              "      <td>0.482874</td>\n",
              "      <td>0.783805</td>\n",
              "      <td>17585</td>\n",
              "    </tr>\n",
              "    <tr>\n",
              "      <th>9</th>\n",
              "      <td>0.783813</td>\n",
              "      <td>0.999142</td>\n",
              "      <td>17588</td>\n",
              "    </tr>\n",
              "  </tbody>\n",
              "</table>\n",
              "</div>"
            ],
            "text/plain": [
              "    minProb   maxProb  numOfCustomer\n",
              "0  0.011831  0.309576          17591\n",
              "1  0.309578  0.335639          17588\n",
              "2  0.335641  0.381902          17587\n",
              "3  0.381907  0.399118          17587\n",
              "4  0.399118  0.412899          17588\n",
              "5  0.412903  0.434612          17588\n",
              "6  0.434616  0.450827          17588\n",
              "7  0.450829  0.482859          17591\n",
              "8  0.482874  0.783805          17585\n",
              "9  0.783813  0.999142          17588"
            ]
          },
          "metadata": {
            "tags": []
          },
          "execution_count": 54
        }
      ]
    },
    {
      "cell_type": "code",
      "metadata": {
        "id": "6qlyWiF_bKPm",
        "colab_type": "code",
        "colab": {
          "base_uri": "https://localhost:8080/",
          "height": 343
        },
        "outputId": "5e8ca153-7a1b-40f5-f596-15d9a10284a0"
      },
      "source": [
        "calculate = calculate.sort_values(['minProb','maxProb'], ascending=False)\n",
        "calculate = calculate.reset_index(drop=True)\n",
        "calculate"
      ],
      "execution_count": 55,
      "outputs": [
        {
          "output_type": "execute_result",
          "data": {
            "text/html": [
              "<div>\n",
              "<style scoped>\n",
              "    .dataframe tbody tr th:only-of-type {\n",
              "        vertical-align: middle;\n",
              "    }\n",
              "\n",
              "    .dataframe tbody tr th {\n",
              "        vertical-align: top;\n",
              "    }\n",
              "\n",
              "    .dataframe thead th {\n",
              "        text-align: right;\n",
              "    }\n",
              "</style>\n",
              "<table border=\"1\" class=\"dataframe\">\n",
              "  <thead>\n",
              "    <tr style=\"text-align: right;\">\n",
              "      <th></th>\n",
              "      <th>minProb</th>\n",
              "      <th>maxProb</th>\n",
              "      <th>numOfCustomer</th>\n",
              "    </tr>\n",
              "  </thead>\n",
              "  <tbody>\n",
              "    <tr>\n",
              "      <th>0</th>\n",
              "      <td>0.783813</td>\n",
              "      <td>0.999142</td>\n",
              "      <td>17588</td>\n",
              "    </tr>\n",
              "    <tr>\n",
              "      <th>1</th>\n",
              "      <td>0.482874</td>\n",
              "      <td>0.783805</td>\n",
              "      <td>17585</td>\n",
              "    </tr>\n",
              "    <tr>\n",
              "      <th>2</th>\n",
              "      <td>0.450829</td>\n",
              "      <td>0.482859</td>\n",
              "      <td>17591</td>\n",
              "    </tr>\n",
              "    <tr>\n",
              "      <th>3</th>\n",
              "      <td>0.434616</td>\n",
              "      <td>0.450827</td>\n",
              "      <td>17588</td>\n",
              "    </tr>\n",
              "    <tr>\n",
              "      <th>4</th>\n",
              "      <td>0.412903</td>\n",
              "      <td>0.434612</td>\n",
              "      <td>17588</td>\n",
              "    </tr>\n",
              "    <tr>\n",
              "      <th>5</th>\n",
              "      <td>0.399118</td>\n",
              "      <td>0.412899</td>\n",
              "      <td>17588</td>\n",
              "    </tr>\n",
              "    <tr>\n",
              "      <th>6</th>\n",
              "      <td>0.381907</td>\n",
              "      <td>0.399118</td>\n",
              "      <td>17587</td>\n",
              "    </tr>\n",
              "    <tr>\n",
              "      <th>7</th>\n",
              "      <td>0.335641</td>\n",
              "      <td>0.381902</td>\n",
              "      <td>17587</td>\n",
              "    </tr>\n",
              "    <tr>\n",
              "      <th>8</th>\n",
              "      <td>0.309578</td>\n",
              "      <td>0.335639</td>\n",
              "      <td>17588</td>\n",
              "    </tr>\n",
              "    <tr>\n",
              "      <th>9</th>\n",
              "      <td>0.011831</td>\n",
              "      <td>0.309576</td>\n",
              "      <td>17591</td>\n",
              "    </tr>\n",
              "  </tbody>\n",
              "</table>\n",
              "</div>"
            ],
            "text/plain": [
              "    minProb   maxProb  numOfCustomer\n",
              "0  0.783813  0.999142          17588\n",
              "1  0.482874  0.783805          17585\n",
              "2  0.450829  0.482859          17591\n",
              "3  0.434616  0.450827          17588\n",
              "4  0.412903  0.434612          17588\n",
              "5  0.399118  0.412899          17588\n",
              "6  0.381907  0.399118          17587\n",
              "7  0.335641  0.381902          17587\n",
              "8  0.309578  0.335639          17588\n",
              "9  0.011831  0.309576          17591"
            ]
          },
          "metadata": {
            "tags": []
          },
          "execution_count": 55
        }
      ]
    },
    {
      "cell_type": "code",
      "metadata": {
        "id": "xUoDIQCvVNan",
        "colab_type": "code",
        "colab": {}
      },
      "source": [
        "calculate['cumNumOfCustomer'] = calculate['numOfCustomer'].cumsum(axis = 0) "
      ],
      "execution_count": 0,
      "outputs": []
    },
    {
      "cell_type": "code",
      "metadata": {
        "id": "JSK6Gnm96d9N",
        "colab_type": "code",
        "colab": {}
      },
      "source": [
        "total = decilePanel.groupby(['decile']).size()"
      ],
      "execution_count": 0,
      "outputs": []
    },
    {
      "cell_type": "code",
      "metadata": {
        "id": "Mep48QbRDwcr",
        "colab_type": "code",
        "colab": {
          "base_uri": "https://localhost:8080/",
          "height": 386
        },
        "outputId": "f9fff131-0639-4603-f72e-3c5bd54b0136"
      },
      "source": [
        "retainStatus = decilePanel.groupby(['decile'])['retained_flag'].value_counts()\n",
        "retainStatus"
      ],
      "execution_count": 58,
      "outputs": [
        {
          "output_type": "execute_result",
          "data": {
            "text/plain": [
              "decile  retained_flag\n",
              "0       1                13357\n",
              "        0                 4234\n",
              "1       1                11988\n",
              "        0                 5600\n",
              "2       1                11468\n",
              "        0                 6119\n",
              "3       1                10860\n",
              "        0                 6727\n",
              "4       1                10386\n",
              "        0                 7202\n",
              "5       1                10176\n",
              "        0                 7412\n",
              "6       1                 9770\n",
              "        0                 7818\n",
              "7       1                 9438\n",
              "        0                 8153\n",
              "8       0                11272\n",
              "        1                 6313\n",
              "9       0                16514\n",
              "        1                 1074\n",
              "Name: retained_flag, dtype: int64"
            ]
          },
          "metadata": {
            "tags": []
          },
          "execution_count": 58
        }
      ]
    },
    {
      "cell_type": "code",
      "metadata": {
        "id": "72SFF9jbFvZT",
        "colab_type": "code",
        "colab": {}
      },
      "source": [
        "trueLoss = []\n",
        "for i in range(9, -1, -1):\n",
        "  trueLoss.append(retainStatus[i][0])"
      ],
      "execution_count": 0,
      "outputs": []
    },
    {
      "cell_type": "code",
      "metadata": {
        "id": "PIT_YbitCFIS",
        "colab_type": "code",
        "colab": {}
      },
      "source": [
        "calculate['trueLoss'] = trueLoss"
      ],
      "execution_count": 0,
      "outputs": []
    },
    {
      "cell_type": "code",
      "metadata": {
        "id": "fDNY-Bj6HIsm",
        "colab_type": "code",
        "colab": {}
      },
      "source": [
        "calculate['trueLossRate'] = calculate['trueLoss'] / calculate['numOfCustomer']"
      ],
      "execution_count": 0,
      "outputs": []
    },
    {
      "cell_type": "code",
      "metadata": {
        "id": "S3LbgGT0DWCy",
        "colab_type": "code",
        "colab": {}
      },
      "source": [
        "calculate['cumTrueLoss'] = calculate['trueLoss'].cumsum(axis =0)\n",
        "calculate['cumTrueLossRate'] = calculate['trueLossRate'].cumsum(axis = 0) "
      ],
      "execution_count": 0,
      "outputs": []
    },
    {
      "cell_type": "code",
      "metadata": {
        "id": "eTmpN6j1XiEi",
        "colab_type": "code",
        "colab": {
          "base_uri": "https://localhost:8080/",
          "height": 34
        },
        "outputId": "67a1526c-c066-491e-ae2c-bac1376cacbc"
      },
      "source": [
        "decilePanel['predLossProb'].mean()"
      ],
      "execution_count": 64,
      "outputs": [
        {
          "output_type": "execute_result",
          "data": {
            "text/plain": [
              "0.46149869662976506"
            ]
          },
          "metadata": {
            "tags": []
          },
          "execution_count": 64
        }
      ]
    },
    {
      "cell_type": "code",
      "metadata": {
        "id": "tr96U_UiXien",
        "colab_type": "code",
        "colab": {}
      },
      "source": [
        "avgLossRate = 81051/175881"
      ],
      "execution_count": 0,
      "outputs": []
    },
    {
      "cell_type": "code",
      "metadata": {
        "id": "bcGY3S4fhgVk",
        "colab_type": "code",
        "colab": {}
      },
      "source": [
        "predLossRate = list(decilePanel.groupby(['decile'])['predLossProb'].mean())\n",
        "predLossRate.reverse()"
      ],
      "execution_count": 0,
      "outputs": []
    },
    {
      "cell_type": "code",
      "metadata": {
        "id": "jEm6talSiGD5",
        "colab_type": "code",
        "colab": {
          "base_uri": "https://localhost:8080/",
          "height": 343
        },
        "outputId": "0edcbc84-a47b-4823-b196-c6b25c97e006"
      },
      "source": [
        "calculate['predLossRate'] = predLossRate\n",
        "calculate"
      ],
      "execution_count": 69,
      "outputs": [
        {
          "output_type": "execute_result",
          "data": {
            "text/html": [
              "<div>\n",
              "<style scoped>\n",
              "    .dataframe tbody tr th:only-of-type {\n",
              "        vertical-align: middle;\n",
              "    }\n",
              "\n",
              "    .dataframe tbody tr th {\n",
              "        vertical-align: top;\n",
              "    }\n",
              "\n",
              "    .dataframe thead th {\n",
              "        text-align: right;\n",
              "    }\n",
              "</style>\n",
              "<table border=\"1\" class=\"dataframe\">\n",
              "  <thead>\n",
              "    <tr style=\"text-align: right;\">\n",
              "      <th></th>\n",
              "      <th>minProb</th>\n",
              "      <th>maxProb</th>\n",
              "      <th>numOfCustomer</th>\n",
              "      <th>cumNumOfCustomer</th>\n",
              "      <th>trueLoss</th>\n",
              "      <th>trueLossRate</th>\n",
              "      <th>cumTrueLoss</th>\n",
              "      <th>cumTrueLossRate</th>\n",
              "      <th>predLossRate</th>\n",
              "    </tr>\n",
              "  </thead>\n",
              "  <tbody>\n",
              "    <tr>\n",
              "      <th>0</th>\n",
              "      <td>0.783813</td>\n",
              "      <td>0.999142</td>\n",
              "      <td>17588</td>\n",
              "      <td>17588</td>\n",
              "      <td>16514</td>\n",
              "      <td>0.938936</td>\n",
              "      <td>16514</td>\n",
              "      <td>0.938936</td>\n",
              "      <td>0.907099</td>\n",
              "    </tr>\n",
              "    <tr>\n",
              "      <th>1</th>\n",
              "      <td>0.482874</td>\n",
              "      <td>0.783805</td>\n",
              "      <td>17585</td>\n",
              "      <td>35173</td>\n",
              "      <td>11272</td>\n",
              "      <td>0.641001</td>\n",
              "      <td>27786</td>\n",
              "      <td>1.579936</td>\n",
              "      <td>0.632433</td>\n",
              "    </tr>\n",
              "    <tr>\n",
              "      <th>2</th>\n",
              "      <td>0.450829</td>\n",
              "      <td>0.482859</td>\n",
              "      <td>17591</td>\n",
              "      <td>52764</td>\n",
              "      <td>8153</td>\n",
              "      <td>0.463476</td>\n",
              "      <td>35939</td>\n",
              "      <td>2.043412</td>\n",
              "      <td>0.459850</td>\n",
              "    </tr>\n",
              "    <tr>\n",
              "      <th>3</th>\n",
              "      <td>0.434616</td>\n",
              "      <td>0.450827</td>\n",
              "      <td>17588</td>\n",
              "      <td>70352</td>\n",
              "      <td>7818</td>\n",
              "      <td>0.444508</td>\n",
              "      <td>43757</td>\n",
              "      <td>2.487920</td>\n",
              "      <td>0.444377</td>\n",
              "    </tr>\n",
              "    <tr>\n",
              "      <th>4</th>\n",
              "      <td>0.412903</td>\n",
              "      <td>0.434612</td>\n",
              "      <td>17588</td>\n",
              "      <td>87940</td>\n",
              "      <td>7412</td>\n",
              "      <td>0.421424</td>\n",
              "      <td>51169</td>\n",
              "      <td>2.909343</td>\n",
              "      <td>0.422658</td>\n",
              "    </tr>\n",
              "    <tr>\n",
              "      <th>5</th>\n",
              "      <td>0.399118</td>\n",
              "      <td>0.412899</td>\n",
              "      <td>17588</td>\n",
              "      <td>105528</td>\n",
              "      <td>7202</td>\n",
              "      <td>0.409484</td>\n",
              "      <td>58371</td>\n",
              "      <td>3.318827</td>\n",
              "      <td>0.405923</td>\n",
              "    </tr>\n",
              "    <tr>\n",
              "      <th>6</th>\n",
              "      <td>0.381907</td>\n",
              "      <td>0.399118</td>\n",
              "      <td>17587</td>\n",
              "      <td>123115</td>\n",
              "      <td>6727</td>\n",
              "      <td>0.382498</td>\n",
              "      <td>65098</td>\n",
              "      <td>3.701326</td>\n",
              "      <td>0.391455</td>\n",
              "    </tr>\n",
              "    <tr>\n",
              "      <th>7</th>\n",
              "      <td>0.335641</td>\n",
              "      <td>0.381902</td>\n",
              "      <td>17587</td>\n",
              "      <td>140702</td>\n",
              "      <td>6119</td>\n",
              "      <td>0.347927</td>\n",
              "      <td>71217</td>\n",
              "      <td>4.049253</td>\n",
              "      <td>0.364833</td>\n",
              "    </tr>\n",
              "    <tr>\n",
              "      <th>8</th>\n",
              "      <td>0.309578</td>\n",
              "      <td>0.335639</td>\n",
              "      <td>17588</td>\n",
              "      <td>158290</td>\n",
              "      <td>5600</td>\n",
              "      <td>0.318399</td>\n",
              "      <td>76817</td>\n",
              "      <td>4.367652</td>\n",
              "      <td>0.321224</td>\n",
              "    </tr>\n",
              "    <tr>\n",
              "      <th>9</th>\n",
              "      <td>0.011831</td>\n",
              "      <td>0.309576</td>\n",
              "      <td>17591</td>\n",
              "      <td>175881</td>\n",
              "      <td>4234</td>\n",
              "      <td>0.240691</td>\n",
              "      <td>81051</td>\n",
              "      <td>4.608343</td>\n",
              "      <td>0.265188</td>\n",
              "    </tr>\n",
              "  </tbody>\n",
              "</table>\n",
              "</div>"
            ],
            "text/plain": [
              "    minProb   maxProb  ...  cumTrueLossRate  predLossRate\n",
              "0  0.783813  0.999142  ...         0.938936      0.907099\n",
              "1  0.482874  0.783805  ...         1.579936      0.632433\n",
              "2  0.450829  0.482859  ...         2.043412      0.459850\n",
              "3  0.434616  0.450827  ...         2.487920      0.444377\n",
              "4  0.412903  0.434612  ...         2.909343      0.422658\n",
              "5  0.399118  0.412899  ...         3.318827      0.405923\n",
              "6  0.381907  0.399118  ...         3.701326      0.391455\n",
              "7  0.335641  0.381902  ...         4.049253      0.364833\n",
              "8  0.309578  0.335639  ...         4.367652      0.321224\n",
              "9  0.011831  0.309576  ...         4.608343      0.265188\n",
              "\n",
              "[10 rows x 9 columns]"
            ]
          },
          "metadata": {
            "tags": []
          },
          "execution_count": 69
        }
      ]
    },
    {
      "cell_type": "code",
      "metadata": {
        "id": "Xv94cls4duPH",
        "colab_type": "code",
        "colab": {}
      },
      "source": [
        "# calculate the LIFT values\n",
        "calculate['actualLift'] = calculate['trueLossRate'] / avgLossRate\n",
        "calculate['predictLift'] = calculate['predLossRate'] / avgLossRate"
      ],
      "execution_count": 0,
      "outputs": []
    },
    {
      "cell_type": "code",
      "metadata": {
        "id": "mj52jSpjYkSU",
        "colab_type": "code",
        "colab": {
          "base_uri": "https://localhost:8080/",
          "height": 343
        },
        "outputId": "1b13f814-b2bb-4f7d-e595-1cc5083791c1"
      },
      "source": [
        "calculate['decile'] = [1,2,3,4,5,6,7,8,9,10]\n",
        "calculate"
      ],
      "execution_count": 72,
      "outputs": [
        {
          "output_type": "execute_result",
          "data": {
            "text/html": [
              "<div>\n",
              "<style scoped>\n",
              "    .dataframe tbody tr th:only-of-type {\n",
              "        vertical-align: middle;\n",
              "    }\n",
              "\n",
              "    .dataframe tbody tr th {\n",
              "        vertical-align: top;\n",
              "    }\n",
              "\n",
              "    .dataframe thead th {\n",
              "        text-align: right;\n",
              "    }\n",
              "</style>\n",
              "<table border=\"1\" class=\"dataframe\">\n",
              "  <thead>\n",
              "    <tr style=\"text-align: right;\">\n",
              "      <th></th>\n",
              "      <th>minProb</th>\n",
              "      <th>maxProb</th>\n",
              "      <th>numOfCustomer</th>\n",
              "      <th>cumNumOfCustomer</th>\n",
              "      <th>trueLoss</th>\n",
              "      <th>trueLossRate</th>\n",
              "      <th>cumTrueLoss</th>\n",
              "      <th>cumTrueLossRate</th>\n",
              "      <th>predLossRate</th>\n",
              "      <th>actualLift</th>\n",
              "      <th>predictLift</th>\n",
              "      <th>decile</th>\n",
              "    </tr>\n",
              "  </thead>\n",
              "  <tbody>\n",
              "    <tr>\n",
              "      <th>0</th>\n",
              "      <td>0.783813</td>\n",
              "      <td>0.999142</td>\n",
              "      <td>17588</td>\n",
              "      <td>17588</td>\n",
              "      <td>16514</td>\n",
              "      <td>0.938936</td>\n",
              "      <td>16514</td>\n",
              "      <td>0.938936</td>\n",
              "      <td>0.907099</td>\n",
              "      <td>2.037494</td>\n",
              "      <td>1.968409</td>\n",
              "      <td>1</td>\n",
              "    </tr>\n",
              "    <tr>\n",
              "      <th>1</th>\n",
              "      <td>0.482874</td>\n",
              "      <td>0.783805</td>\n",
              "      <td>17585</td>\n",
              "      <td>35173</td>\n",
              "      <td>11272</td>\n",
              "      <td>0.641001</td>\n",
              "      <td>27786</td>\n",
              "      <td>1.579936</td>\n",
              "      <td>0.632433</td>\n",
              "      <td>1.390974</td>\n",
              "      <td>1.372383</td>\n",
              "      <td>2</td>\n",
              "    </tr>\n",
              "    <tr>\n",
              "      <th>2</th>\n",
              "      <td>0.450829</td>\n",
              "      <td>0.482859</td>\n",
              "      <td>17591</td>\n",
              "      <td>52764</td>\n",
              "      <td>8153</td>\n",
              "      <td>0.463476</td>\n",
              "      <td>35939</td>\n",
              "      <td>2.043412</td>\n",
              "      <td>0.459850</td>\n",
              "      <td>1.005744</td>\n",
              "      <td>0.997876</td>\n",
              "      <td>3</td>\n",
              "    </tr>\n",
              "    <tr>\n",
              "      <th>3</th>\n",
              "      <td>0.434616</td>\n",
              "      <td>0.450827</td>\n",
              "      <td>17588</td>\n",
              "      <td>70352</td>\n",
              "      <td>7818</td>\n",
              "      <td>0.444508</td>\n",
              "      <td>43757</td>\n",
              "      <td>2.487920</td>\n",
              "      <td>0.444377</td>\n",
              "      <td>0.964583</td>\n",
              "      <td>0.964301</td>\n",
              "      <td>4</td>\n",
              "    </tr>\n",
              "    <tr>\n",
              "      <th>4</th>\n",
              "      <td>0.412903</td>\n",
              "      <td>0.434612</td>\n",
              "      <td>17588</td>\n",
              "      <td>87940</td>\n",
              "      <td>7412</td>\n",
              "      <td>0.421424</td>\n",
              "      <td>51169</td>\n",
              "      <td>2.909343</td>\n",
              "      <td>0.422658</td>\n",
              "      <td>0.914491</td>\n",
              "      <td>0.917169</td>\n",
              "      <td>5</td>\n",
              "    </tr>\n",
              "    <tr>\n",
              "      <th>5</th>\n",
              "      <td>0.399118</td>\n",
              "      <td>0.412899</td>\n",
              "      <td>17588</td>\n",
              "      <td>105528</td>\n",
              "      <td>7202</td>\n",
              "      <td>0.409484</td>\n",
              "      <td>58371</td>\n",
              "      <td>3.318827</td>\n",
              "      <td>0.405923</td>\n",
              "      <td>0.888581</td>\n",
              "      <td>0.880855</td>\n",
              "      <td>6</td>\n",
              "    </tr>\n",
              "    <tr>\n",
              "      <th>6</th>\n",
              "      <td>0.381907</td>\n",
              "      <td>0.399118</td>\n",
              "      <td>17587</td>\n",
              "      <td>123115</td>\n",
              "      <td>6727</td>\n",
              "      <td>0.382498</td>\n",
              "      <td>65098</td>\n",
              "      <td>3.701326</td>\n",
              "      <td>0.391455</td>\n",
              "      <td>0.830023</td>\n",
              "      <td>0.849459</td>\n",
              "      <td>7</td>\n",
              "    </tr>\n",
              "    <tr>\n",
              "      <th>7</th>\n",
              "      <td>0.335641</td>\n",
              "      <td>0.381902</td>\n",
              "      <td>17587</td>\n",
              "      <td>140702</td>\n",
              "      <td>6119</td>\n",
              "      <td>0.347927</td>\n",
              "      <td>71217</td>\n",
              "      <td>4.049253</td>\n",
              "      <td>0.364833</td>\n",
              "      <td>0.755004</td>\n",
              "      <td>0.791690</td>\n",
              "      <td>8</td>\n",
              "    </tr>\n",
              "    <tr>\n",
              "      <th>8</th>\n",
              "      <td>0.309578</td>\n",
              "      <td>0.335639</td>\n",
              "      <td>17588</td>\n",
              "      <td>158290</td>\n",
              "      <td>5600</td>\n",
              "      <td>0.318399</td>\n",
              "      <td>76817</td>\n",
              "      <td>4.367652</td>\n",
              "      <td>0.321224</td>\n",
              "      <td>0.690927</td>\n",
              "      <td>0.697057</td>\n",
              "      <td>9</td>\n",
              "    </tr>\n",
              "    <tr>\n",
              "      <th>9</th>\n",
              "      <td>0.011831</td>\n",
              "      <td>0.309576</td>\n",
              "      <td>17591</td>\n",
              "      <td>175881</td>\n",
              "      <td>4234</td>\n",
              "      <td>0.240691</td>\n",
              "      <td>81051</td>\n",
              "      <td>4.608343</td>\n",
              "      <td>0.265188</td>\n",
              "      <td>0.522301</td>\n",
              "      <td>0.575458</td>\n",
              "      <td>10</td>\n",
              "    </tr>\n",
              "  </tbody>\n",
              "</table>\n",
              "</div>"
            ],
            "text/plain": [
              "    minProb   maxProb  numOfCustomer  ...  actualLift  predictLift  decile\n",
              "0  0.783813  0.999142          17588  ...    2.037494     1.968409       1\n",
              "1  0.482874  0.783805          17585  ...    1.390974     1.372383       2\n",
              "2  0.450829  0.482859          17591  ...    1.005744     0.997876       3\n",
              "3  0.434616  0.450827          17588  ...    0.964583     0.964301       4\n",
              "4  0.412903  0.434612          17588  ...    0.914491     0.917169       5\n",
              "5  0.399118  0.412899          17588  ...    0.888581     0.880855       6\n",
              "6  0.381907  0.399118          17587  ...    0.830023     0.849459       7\n",
              "7  0.335641  0.381902          17587  ...    0.755004     0.791690       8\n",
              "8  0.309578  0.335639          17588  ...    0.690927     0.697057       9\n",
              "9  0.011831  0.309576          17591  ...    0.522301     0.575458      10\n",
              "\n",
              "[10 rows x 12 columns]"
            ]
          },
          "metadata": {
            "tags": []
          },
          "execution_count": 72
        }
      ]
    },
    {
      "cell_type": "code",
      "metadata": {
        "id": "_fuXNIJ7Zm5g",
        "colab_type": "code",
        "colab": {}
      },
      "source": [
        "calculate2 = calculate.copy()"
      ],
      "execution_count": 0,
      "outputs": []
    },
    {
      "cell_type": "code",
      "metadata": {
        "id": "-5bmil20Zvkr",
        "colab_type": "code",
        "colab": {}
      },
      "source": [
        "calculate2['LossWithoutModel'] = calculate2['numOfCustomer'] * avgLossRate"
      ],
      "execution_count": 0,
      "outputs": []
    },
    {
      "cell_type": "code",
      "metadata": {
        "id": "I_ErQNHTZvoQ",
        "colab_type": "code",
        "colab": {}
      },
      "source": [
        "calculate2['cumLossWithoutModel'] = calculate2['LossWithoutModel'].cumsum(axis =0)"
      ],
      "execution_count": 0,
      "outputs": []
    },
    {
      "cell_type": "code",
      "metadata": {
        "id": "O5C54r0KZnWb",
        "colab_type": "code",
        "colab": {}
      },
      "source": [
        "calculate2['cumLift'] = calculate2['cumTrueLoss'] / calculate2['cumLossWithoutModel']"
      ],
      "execution_count": 0,
      "outputs": []
    },
    {
      "cell_type": "code",
      "metadata": {
        "id": "QKT7t7FLZnZ1",
        "colab_type": "code",
        "colab": {
          "base_uri": "https://localhost:8080/",
          "height": 363
        },
        "outputId": "5b8b8e7d-145d-411d-bc55-e42a83cb0d9a"
      },
      "source": [
        "calculate2"
      ],
      "execution_count": 78,
      "outputs": [
        {
          "output_type": "execute_result",
          "data": {
            "text/html": [
              "<div>\n",
              "<style scoped>\n",
              "    .dataframe tbody tr th:only-of-type {\n",
              "        vertical-align: middle;\n",
              "    }\n",
              "\n",
              "    .dataframe tbody tr th {\n",
              "        vertical-align: top;\n",
              "    }\n",
              "\n",
              "    .dataframe thead th {\n",
              "        text-align: right;\n",
              "    }\n",
              "</style>\n",
              "<table border=\"1\" class=\"dataframe\">\n",
              "  <thead>\n",
              "    <tr style=\"text-align: right;\">\n",
              "      <th></th>\n",
              "      <th>minProb</th>\n",
              "      <th>maxProb</th>\n",
              "      <th>numOfCustomer</th>\n",
              "      <th>cumNumOfCustomer</th>\n",
              "      <th>trueLoss</th>\n",
              "      <th>trueLossRate</th>\n",
              "      <th>cumTrueLoss</th>\n",
              "      <th>cumTrueLossRate</th>\n",
              "      <th>predLossRate</th>\n",
              "      <th>actualLift</th>\n",
              "      <th>predictLift</th>\n",
              "      <th>decile</th>\n",
              "      <th>LossWithoutModel</th>\n",
              "      <th>cumLossWithoutModel</th>\n",
              "      <th>cumLift</th>\n",
              "    </tr>\n",
              "  </thead>\n",
              "  <tbody>\n",
              "    <tr>\n",
              "      <th>0</th>\n",
              "      <td>0.783813</td>\n",
              "      <td>0.999142</td>\n",
              "      <td>17588</td>\n",
              "      <td>17588</td>\n",
              "      <td>16514</td>\n",
              "      <td>0.938936</td>\n",
              "      <td>16514</td>\n",
              "      <td>0.938936</td>\n",
              "      <td>0.907099</td>\n",
              "      <td>2.037494</td>\n",
              "      <td>1.968409</td>\n",
              "      <td>1</td>\n",
              "      <td>8105.053917</td>\n",
              "      <td>8105.053917</td>\n",
              "      <td>2.037494</td>\n",
              "    </tr>\n",
              "    <tr>\n",
              "      <th>1</th>\n",
              "      <td>0.482874</td>\n",
              "      <td>0.783805</td>\n",
              "      <td>17585</td>\n",
              "      <td>35173</td>\n",
              "      <td>11272</td>\n",
              "      <td>0.641001</td>\n",
              "      <td>27786</td>\n",
              "      <td>1.579936</td>\n",
              "      <td>0.632433</td>\n",
              "      <td>1.390974</td>\n",
              "      <td>1.372383</td>\n",
              "      <td>2</td>\n",
              "      <td>8103.671431</td>\n",
              "      <td>16208.725348</td>\n",
              "      <td>1.714262</td>\n",
              "    </tr>\n",
              "    <tr>\n",
              "      <th>2</th>\n",
              "      <td>0.450829</td>\n",
              "      <td>0.482859</td>\n",
              "      <td>17591</td>\n",
              "      <td>52764</td>\n",
              "      <td>8153</td>\n",
              "      <td>0.463476</td>\n",
              "      <td>35939</td>\n",
              "      <td>2.043412</td>\n",
              "      <td>0.459850</td>\n",
              "      <td>1.005744</td>\n",
              "      <td>0.997876</td>\n",
              "      <td>3</td>\n",
              "      <td>8106.436403</td>\n",
              "      <td>24315.161751</td>\n",
              "      <td>1.478049</td>\n",
              "    </tr>\n",
              "    <tr>\n",
              "      <th>3</th>\n",
              "      <td>0.434616</td>\n",
              "      <td>0.450827</td>\n",
              "      <td>17588</td>\n",
              "      <td>70352</td>\n",
              "      <td>7818</td>\n",
              "      <td>0.444508</td>\n",
              "      <td>43757</td>\n",
              "      <td>2.487920</td>\n",
              "      <td>0.444377</td>\n",
              "      <td>0.964583</td>\n",
              "      <td>0.964301</td>\n",
              "      <td>4</td>\n",
              "      <td>8105.053917</td>\n",
              "      <td>32420.215669</td>\n",
              "      <td>1.349683</td>\n",
              "    </tr>\n",
              "    <tr>\n",
              "      <th>4</th>\n",
              "      <td>0.412903</td>\n",
              "      <td>0.434612</td>\n",
              "      <td>17588</td>\n",
              "      <td>87940</td>\n",
              "      <td>7412</td>\n",
              "      <td>0.421424</td>\n",
              "      <td>51169</td>\n",
              "      <td>2.909343</td>\n",
              "      <td>0.422658</td>\n",
              "      <td>0.914491</td>\n",
              "      <td>0.917169</td>\n",
              "      <td>5</td>\n",
              "      <td>8105.053917</td>\n",
              "      <td>40525.269586</td>\n",
              "      <td>1.262644</td>\n",
              "    </tr>\n",
              "    <tr>\n",
              "      <th>5</th>\n",
              "      <td>0.399118</td>\n",
              "      <td>0.412899</td>\n",
              "      <td>17588</td>\n",
              "      <td>105528</td>\n",
              "      <td>7202</td>\n",
              "      <td>0.409484</td>\n",
              "      <td>58371</td>\n",
              "      <td>3.318827</td>\n",
              "      <td>0.405923</td>\n",
              "      <td>0.888581</td>\n",
              "      <td>0.880855</td>\n",
              "      <td>6</td>\n",
              "      <td>8105.053917</td>\n",
              "      <td>48630.323503</td>\n",
              "      <td>1.200300</td>\n",
              "    </tr>\n",
              "    <tr>\n",
              "      <th>6</th>\n",
              "      <td>0.381907</td>\n",
              "      <td>0.399118</td>\n",
              "      <td>17587</td>\n",
              "      <td>123115</td>\n",
              "      <td>6727</td>\n",
              "      <td>0.382498</td>\n",
              "      <td>65098</td>\n",
              "      <td>3.701326</td>\n",
              "      <td>0.391455</td>\n",
              "      <td>0.830023</td>\n",
              "      <td>0.849459</td>\n",
              "      <td>7</td>\n",
              "      <td>8104.593089</td>\n",
              "      <td>56734.916591</td>\n",
              "      <td>1.147406</td>\n",
              "    </tr>\n",
              "    <tr>\n",
              "      <th>7</th>\n",
              "      <td>0.335641</td>\n",
              "      <td>0.381902</td>\n",
              "      <td>17587</td>\n",
              "      <td>140702</td>\n",
              "      <td>6119</td>\n",
              "      <td>0.347927</td>\n",
              "      <td>71217</td>\n",
              "      <td>4.049253</td>\n",
              "      <td>0.364833</td>\n",
              "      <td>0.755004</td>\n",
              "      <td>0.791690</td>\n",
              "      <td>8</td>\n",
              "      <td>8104.593089</td>\n",
              "      <td>64839.509680</td>\n",
              "      <td>1.098358</td>\n",
              "    </tr>\n",
              "    <tr>\n",
              "      <th>8</th>\n",
              "      <td>0.309578</td>\n",
              "      <td>0.335639</td>\n",
              "      <td>17588</td>\n",
              "      <td>158290</td>\n",
              "      <td>5600</td>\n",
              "      <td>0.318399</td>\n",
              "      <td>76817</td>\n",
              "      <td>4.367652</td>\n",
              "      <td>0.321224</td>\n",
              "      <td>0.690927</td>\n",
              "      <td>0.697057</td>\n",
              "      <td>9</td>\n",
              "      <td>8105.053917</td>\n",
              "      <td>72944.563597</td>\n",
              "      <td>1.053087</td>\n",
              "    </tr>\n",
              "    <tr>\n",
              "      <th>9</th>\n",
              "      <td>0.011831</td>\n",
              "      <td>0.309576</td>\n",
              "      <td>17591</td>\n",
              "      <td>175881</td>\n",
              "      <td>4234</td>\n",
              "      <td>0.240691</td>\n",
              "      <td>81051</td>\n",
              "      <td>4.608343</td>\n",
              "      <td>0.265188</td>\n",
              "      <td>0.522301</td>\n",
              "      <td>0.575458</td>\n",
              "      <td>10</td>\n",
              "      <td>8106.436403</td>\n",
              "      <td>81051.000000</td>\n",
              "      <td>1.000000</td>\n",
              "    </tr>\n",
              "  </tbody>\n",
              "</table>\n",
              "</div>"
            ],
            "text/plain": [
              "    minProb   maxProb  ...  cumLossWithoutModel   cumLift\n",
              "0  0.783813  0.999142  ...          8105.053917  2.037494\n",
              "1  0.482874  0.783805  ...         16208.725348  1.714262\n",
              "2  0.450829  0.482859  ...         24315.161751  1.478049\n",
              "3  0.434616  0.450827  ...         32420.215669  1.349683\n",
              "4  0.412903  0.434612  ...         40525.269586  1.262644\n",
              "5  0.399118  0.412899  ...         48630.323503  1.200300\n",
              "6  0.381907  0.399118  ...         56734.916591  1.147406\n",
              "7  0.335641  0.381902  ...         64839.509680  1.098358\n",
              "8  0.309578  0.335639  ...         72944.563597  1.053087\n",
              "9  0.011831  0.309576  ...         81051.000000  1.000000\n",
              "\n",
              "[10 rows x 15 columns]"
            ]
          },
          "metadata": {
            "tags": []
          },
          "execution_count": 78
        }
      ]
    },
    {
      "cell_type": "markdown",
      "metadata": {
        "id": "EdGfV0Qh70of",
        "colab_type": "text"
      },
      "source": [
        "Suppose the top 2 deciles are considered to be the risky groups, we want to investigate the expected benefit and cost using the model. Since the company has NO DATA that can provide information about the cost of marketing campaign, all the analysis were conducted based on assumptions. Nevertheless, the idea of using lift chart incorporating costs and benefits is reasonable and could be able to applied when more accurate data is available."
      ]
    },
    {
      "cell_type": "code",
      "metadata": {
        "id": "a7Jh3ORGuOF7",
        "colab_type": "code",
        "colab": {
          "base_uri": "https://localhost:8080/",
          "height": 422
        },
        "outputId": "b40761d8-22b3-43ce-a9f5-f5f2fa570e6d"
      },
      "source": [
        "risky = decilePanel[ (decilePanel['decile'] == 9) | (decilePanel['decile'] == 8)].copy()\n",
        "risky"
      ],
      "execution_count": 97,
      "outputs": [
        {
          "output_type": "execute_result",
          "data": {
            "text/html": [
              "<div>\n",
              "<style scoped>\n",
              "    .dataframe tbody tr th:only-of-type {\n",
              "        vertical-align: middle;\n",
              "    }\n",
              "\n",
              "    .dataframe tbody tr th {\n",
              "        vertical-align: top;\n",
              "    }\n",
              "\n",
              "    .dataframe thead th {\n",
              "        text-align: right;\n",
              "    }\n",
              "</style>\n",
              "<table border=\"1\" class=\"dataframe\">\n",
              "  <thead>\n",
              "    <tr style=\"text-align: right;\">\n",
              "      <th></th>\n",
              "      <th>avg_ro_labor_price</th>\n",
              "      <th>avg_ro_parts_price</th>\n",
              "      <th>avg_customerpay</th>\n",
              "      <th>avg_customerpay_value</th>\n",
              "      <th>avg_warrantypay</th>\n",
              "      <th>avg_warrantypay_value</th>\n",
              "      <th>avg_otherpay</th>\n",
              "      <th>avg_otherpay_value</th>\n",
              "      <th>vehicle_warranty_mileage</th>\n",
              "      <th>max_ro_mileage</th>\n",
              "      <th>recency</th>\n",
              "      <th>frequency</th>\n",
              "      <th>vehicle_age</th>\n",
              "      <th>market_value</th>\n",
              "      <th>reliability</th>\n",
              "      <th>distance</th>\n",
              "      <th>vehicle_warranty_service_status</th>\n",
              "      <th>body_class</th>\n",
              "      <th>luxury</th>\n",
              "      <th>ronum</th>\n",
              "      <th>dealer_location_population</th>\n",
              "      <th>nearby_same_dealer</th>\n",
              "      <th>nearby_third_party</th>\n",
              "      <th>retained_flag</th>\n",
              "      <th>predLossProb</th>\n",
              "      <th>predClass</th>\n",
              "      <th>decile</th>\n",
              "    </tr>\n",
              "  </thead>\n",
              "  <tbody>\n",
              "    <tr>\n",
              "      <th>0</th>\n",
              "      <td>1621.81</td>\n",
              "      <td>529.75</td>\n",
              "      <td>0.290000</td>\n",
              "      <td>647.506200</td>\n",
              "      <td>0.7100</td>\n",
              "      <td>1585.2738</td>\n",
              "      <td>0.000000</td>\n",
              "      <td>0.000000</td>\n",
              "      <td>50000</td>\n",
              "      <td>85100</td>\n",
              "      <td>91</td>\n",
              "      <td>1</td>\n",
              "      <td>4</td>\n",
              "      <td>15829.330000</td>\n",
              "      <td>58</td>\n",
              "      <td>41</td>\n",
              "      <td>0</td>\n",
              "      <td>7</td>\n",
              "      <td>0</td>\n",
              "      <td>83149</td>\n",
              "      <td>79943</td>\n",
              "      <td>0</td>\n",
              "      <td>18</td>\n",
              "      <td>0</td>\n",
              "      <td>0.833619</td>\n",
              "      <td>0</td>\n",
              "      <td>9</td>\n",
              "    </tr>\n",
              "    <tr>\n",
              "      <th>2</th>\n",
              "      <td>73.03</td>\n",
              "      <td>208.10</td>\n",
              "      <td>0.770000</td>\n",
              "      <td>351.718700</td>\n",
              "      <td>0.2325</td>\n",
              "      <td>77.2702</td>\n",
              "      <td>0.000000</td>\n",
              "      <td>0.000000</td>\n",
              "      <td>100000</td>\n",
              "      <td>38798</td>\n",
              "      <td>137</td>\n",
              "      <td>4</td>\n",
              "      <td>5</td>\n",
              "      <td>16081.720000</td>\n",
              "      <td>64</td>\n",
              "      <td>27</td>\n",
              "      <td>0</td>\n",
              "      <td>6</td>\n",
              "      <td>0</td>\n",
              "      <td>83149</td>\n",
              "      <td>79943</td>\n",
              "      <td>0</td>\n",
              "      <td>18</td>\n",
              "      <td>0</td>\n",
              "      <td>0.545732</td>\n",
              "      <td>0</td>\n",
              "      <td>8</td>\n",
              "    </tr>\n",
              "    <tr>\n",
              "      <th>3</th>\n",
              "      <td>69.10</td>\n",
              "      <td>0.00</td>\n",
              "      <td>0.250000</td>\n",
              "      <td>0.000000</td>\n",
              "      <td>0.7500</td>\n",
              "      <td>112.0850</td>\n",
              "      <td>0.000000</td>\n",
              "      <td>0.000000</td>\n",
              "      <td>50000</td>\n",
              "      <td>28092</td>\n",
              "      <td>91</td>\n",
              "      <td>2</td>\n",
              "      <td>3</td>\n",
              "      <td>11321.470000</td>\n",
              "      <td>58</td>\n",
              "      <td>4</td>\n",
              "      <td>0</td>\n",
              "      <td>8</td>\n",
              "      <td>0</td>\n",
              "      <td>83149</td>\n",
              "      <td>79943</td>\n",
              "      <td>0</td>\n",
              "      <td>18</td>\n",
              "      <td>0</td>\n",
              "      <td>0.870507</td>\n",
              "      <td>0</td>\n",
              "      <td>9</td>\n",
              "    </tr>\n",
              "    <tr>\n",
              "      <th>4</th>\n",
              "      <td>144.02</td>\n",
              "      <td>139.40</td>\n",
              "      <td>0.834000</td>\n",
              "      <td>380.498100</td>\n",
              "      <td>0.1660</td>\n",
              "      <td>93.6399</td>\n",
              "      <td>0.000000</td>\n",
              "      <td>0.000000</td>\n",
              "      <td>50000</td>\n",
              "      <td>59394</td>\n",
              "      <td>141</td>\n",
              "      <td>5</td>\n",
              "      <td>8</td>\n",
              "      <td>7458.590000</td>\n",
              "      <td>58</td>\n",
              "      <td>59</td>\n",
              "      <td>0</td>\n",
              "      <td>4</td>\n",
              "      <td>0</td>\n",
              "      <td>83149</td>\n",
              "      <td>79943</td>\n",
              "      <td>0</td>\n",
              "      <td>18</td>\n",
              "      <td>0</td>\n",
              "      <td>0.607869</td>\n",
              "      <td>0</td>\n",
              "      <td>8</td>\n",
              "    </tr>\n",
              "    <tr>\n",
              "      <th>5</th>\n",
              "      <td>17.36</td>\n",
              "      <td>44.30</td>\n",
              "      <td>1.000000</td>\n",
              "      <td>68.805000</td>\n",
              "      <td>0.0000</td>\n",
              "      <td>0.0000</td>\n",
              "      <td>0.000000</td>\n",
              "      <td>0.000000</td>\n",
              "      <td>50000</td>\n",
              "      <td>41390</td>\n",
              "      <td>300</td>\n",
              "      <td>2</td>\n",
              "      <td>3</td>\n",
              "      <td>22857.320000</td>\n",
              "      <td>58</td>\n",
              "      <td>71</td>\n",
              "      <td>0</td>\n",
              "      <td>7</td>\n",
              "      <td>0</td>\n",
              "      <td>83149</td>\n",
              "      <td>79943</td>\n",
              "      <td>0</td>\n",
              "      <td>18</td>\n",
              "      <td>0</td>\n",
              "      <td>0.806046</td>\n",
              "      <td>0</td>\n",
              "      <td>9</td>\n",
              "    </tr>\n",
              "    <tr>\n",
              "      <th>...</th>\n",
              "      <td>...</td>\n",
              "      <td>...</td>\n",
              "      <td>...</td>\n",
              "      <td>...</td>\n",
              "      <td>...</td>\n",
              "      <td>...</td>\n",
              "      <td>...</td>\n",
              "      <td>...</td>\n",
              "      <td>...</td>\n",
              "      <td>...</td>\n",
              "      <td>...</td>\n",
              "      <td>...</td>\n",
              "      <td>...</td>\n",
              "      <td>...</td>\n",
              "      <td>...</td>\n",
              "      <td>...</td>\n",
              "      <td>...</td>\n",
              "      <td>...</td>\n",
              "      <td>...</td>\n",
              "      <td>...</td>\n",
              "      <td>...</td>\n",
              "      <td>...</td>\n",
              "      <td>...</td>\n",
              "      <td>...</td>\n",
              "      <td>...</td>\n",
              "      <td>...</td>\n",
              "      <td>...</td>\n",
              "    </tr>\n",
              "    <tr>\n",
              "      <th>191483</th>\n",
              "      <td>189.53</td>\n",
              "      <td>568.19</td>\n",
              "      <td>1.000000</td>\n",
              "      <td>811.780000</td>\n",
              "      <td>0.0000</td>\n",
              "      <td>0.0000</td>\n",
              "      <td>0.000000</td>\n",
              "      <td>0.000000</td>\n",
              "      <td>36000</td>\n",
              "      <td>199603</td>\n",
              "      <td>99</td>\n",
              "      <td>1</td>\n",
              "      <td>14</td>\n",
              "      <td>12333.323193</td>\n",
              "      <td>73</td>\n",
              "      <td>200</td>\n",
              "      <td>0</td>\n",
              "      <td>8</td>\n",
              "      <td>0</td>\n",
              "      <td>145615</td>\n",
              "      <td>892062</td>\n",
              "      <td>5</td>\n",
              "      <td>19</td>\n",
              "      <td>0</td>\n",
              "      <td>0.850397</td>\n",
              "      <td>0</td>\n",
              "      <td>9</td>\n",
              "    </tr>\n",
              "    <tr>\n",
              "      <th>191484</th>\n",
              "      <td>3.60</td>\n",
              "      <td>70.67</td>\n",
              "      <td>0.833333</td>\n",
              "      <td>72.853333</td>\n",
              "      <td>0.0000</td>\n",
              "      <td>0.0000</td>\n",
              "      <td>0.166667</td>\n",
              "      <td>8.416667</td>\n",
              "      <td>36000</td>\n",
              "      <td>221125</td>\n",
              "      <td>277</td>\n",
              "      <td>3</td>\n",
              "      <td>18</td>\n",
              "      <td>12333.323193</td>\n",
              "      <td>73</td>\n",
              "      <td>64</td>\n",
              "      <td>0</td>\n",
              "      <td>11</td>\n",
              "      <td>0</td>\n",
              "      <td>145615</td>\n",
              "      <td>892062</td>\n",
              "      <td>5</td>\n",
              "      <td>19</td>\n",
              "      <td>0</td>\n",
              "      <td>0.580269</td>\n",
              "      <td>0</td>\n",
              "      <td>8</td>\n",
              "    </tr>\n",
              "    <tr>\n",
              "      <th>191485</th>\n",
              "      <td>508.70</td>\n",
              "      <td>23.96</td>\n",
              "      <td>1.000000</td>\n",
              "      <td>598.840000</td>\n",
              "      <td>0.0000</td>\n",
              "      <td>0.0000</td>\n",
              "      <td>0.000000</td>\n",
              "      <td>0.000000</td>\n",
              "      <td>36000</td>\n",
              "      <td>380123</td>\n",
              "      <td>108</td>\n",
              "      <td>1</td>\n",
              "      <td>17</td>\n",
              "      <td>12333.323193</td>\n",
              "      <td>73</td>\n",
              "      <td>180</td>\n",
              "      <td>0</td>\n",
              "      <td>7</td>\n",
              "      <td>0</td>\n",
              "      <td>145615</td>\n",
              "      <td>892062</td>\n",
              "      <td>5</td>\n",
              "      <td>19</td>\n",
              "      <td>1</td>\n",
              "      <td>0.904629</td>\n",
              "      <td>0</td>\n",
              "      <td>9</td>\n",
              "    </tr>\n",
              "    <tr>\n",
              "      <th>191486</th>\n",
              "      <td>105.16</td>\n",
              "      <td>78.99</td>\n",
              "      <td>0.500000</td>\n",
              "      <td>145.032500</td>\n",
              "      <td>0.2500</td>\n",
              "      <td>324.5275</td>\n",
              "      <td>0.250000</td>\n",
              "      <td>0.000000</td>\n",
              "      <td>36000</td>\n",
              "      <td>136600</td>\n",
              "      <td>219</td>\n",
              "      <td>4</td>\n",
              "      <td>12</td>\n",
              "      <td>12333.323193</td>\n",
              "      <td>73</td>\n",
              "      <td>167</td>\n",
              "      <td>0</td>\n",
              "      <td>7</td>\n",
              "      <td>0</td>\n",
              "      <td>145615</td>\n",
              "      <td>892062</td>\n",
              "      <td>5</td>\n",
              "      <td>19</td>\n",
              "      <td>0</td>\n",
              "      <td>0.692465</td>\n",
              "      <td>0</td>\n",
              "      <td>8</td>\n",
              "    </tr>\n",
              "    <tr>\n",
              "      <th>191487</th>\n",
              "      <td>7.62</td>\n",
              "      <td>6.63</td>\n",
              "      <td>1.000000</td>\n",
              "      <td>19.000000</td>\n",
              "      <td>0.0000</td>\n",
              "      <td>0.0000</td>\n",
              "      <td>0.000000</td>\n",
              "      <td>0.000000</td>\n",
              "      <td>36000</td>\n",
              "      <td>210764</td>\n",
              "      <td>4</td>\n",
              "      <td>1</td>\n",
              "      <td>12</td>\n",
              "      <td>22364.317984</td>\n",
              "      <td>50</td>\n",
              "      <td>468</td>\n",
              "      <td>0</td>\n",
              "      <td>9</td>\n",
              "      <td>0</td>\n",
              "      <td>145615</td>\n",
              "      <td>892062</td>\n",
              "      <td>5</td>\n",
              "      <td>19</td>\n",
              "      <td>0</td>\n",
              "      <td>0.861265</td>\n",
              "      <td>0</td>\n",
              "      <td>9</td>\n",
              "    </tr>\n",
              "  </tbody>\n",
              "</table>\n",
              "<p>35173 rows × 27 columns</p>\n",
              "</div>"
            ],
            "text/plain": [
              "        avg_ro_labor_price  avg_ro_parts_price  ...  predClass  decile\n",
              "0                  1621.81              529.75  ...          0       9\n",
              "2                    73.03              208.10  ...          0       8\n",
              "3                    69.10                0.00  ...          0       9\n",
              "4                   144.02              139.40  ...          0       8\n",
              "5                    17.36               44.30  ...          0       9\n",
              "...                    ...                 ...  ...        ...     ...\n",
              "191483              189.53              568.19  ...          0       9\n",
              "191484                3.60               70.67  ...          0       8\n",
              "191485              508.70               23.96  ...          0       9\n",
              "191486              105.16               78.99  ...          0       8\n",
              "191487                7.62                6.63  ...          0       9\n",
              "\n",
              "[35173 rows x 27 columns]"
            ]
          },
          "metadata": {
            "tags": []
          },
          "execution_count": 97
        }
      ]
    },
    {
      "cell_type": "code",
      "metadata": {
        "id": "wncGIIPERDqP",
        "colab_type": "code",
        "colab": {
          "base_uri": "https://localhost:8080/",
          "height": 402
        },
        "outputId": "6ec8604b-7e54-49fc-c0e1-13acb5f0521e"
      },
      "source": [
        "risky = risky[['retained_flag','predLossProb', 'predClass']]\n",
        "risky = risky.sort_values(\"predLossProb\", ascending = False)\n",
        "risky = risky.reset_index(inplace=False)\n",
        "risky = risky.drop(['index'], axis=1)\n",
        "risky"
      ],
      "execution_count": 98,
      "outputs": [
        {
          "output_type": "execute_result",
          "data": {
            "text/html": [
              "<div>\n",
              "<style scoped>\n",
              "    .dataframe tbody tr th:only-of-type {\n",
              "        vertical-align: middle;\n",
              "    }\n",
              "\n",
              "    .dataframe tbody tr th {\n",
              "        vertical-align: top;\n",
              "    }\n",
              "\n",
              "    .dataframe thead th {\n",
              "        text-align: right;\n",
              "    }\n",
              "</style>\n",
              "<table border=\"1\" class=\"dataframe\">\n",
              "  <thead>\n",
              "    <tr style=\"text-align: right;\">\n",
              "      <th></th>\n",
              "      <th>retained_flag</th>\n",
              "      <th>predLossProb</th>\n",
              "      <th>predClass</th>\n",
              "    </tr>\n",
              "  </thead>\n",
              "  <tbody>\n",
              "    <tr>\n",
              "      <th>0</th>\n",
              "      <td>0</td>\n",
              "      <td>0.999142</td>\n",
              "      <td>0</td>\n",
              "    </tr>\n",
              "    <tr>\n",
              "      <th>1</th>\n",
              "      <td>0</td>\n",
              "      <td>0.998970</td>\n",
              "      <td>0</td>\n",
              "    </tr>\n",
              "    <tr>\n",
              "      <th>2</th>\n",
              "      <td>0</td>\n",
              "      <td>0.998333</td>\n",
              "      <td>0</td>\n",
              "    </tr>\n",
              "    <tr>\n",
              "      <th>3</th>\n",
              "      <td>0</td>\n",
              "      <td>0.998316</td>\n",
              "      <td>0</td>\n",
              "    </tr>\n",
              "    <tr>\n",
              "      <th>4</th>\n",
              "      <td>0</td>\n",
              "      <td>0.998307</td>\n",
              "      <td>0</td>\n",
              "    </tr>\n",
              "    <tr>\n",
              "      <th>...</th>\n",
              "      <td>...</td>\n",
              "      <td>...</td>\n",
              "      <td>...</td>\n",
              "    </tr>\n",
              "    <tr>\n",
              "      <th>35168</th>\n",
              "      <td>1</td>\n",
              "      <td>0.482880</td>\n",
              "      <td>1</td>\n",
              "    </tr>\n",
              "    <tr>\n",
              "      <th>35169</th>\n",
              "      <td>1</td>\n",
              "      <td>0.482880</td>\n",
              "      <td>1</td>\n",
              "    </tr>\n",
              "    <tr>\n",
              "      <th>35170</th>\n",
              "      <td>0</td>\n",
              "      <td>0.482880</td>\n",
              "      <td>1</td>\n",
              "    </tr>\n",
              "    <tr>\n",
              "      <th>35171</th>\n",
              "      <td>0</td>\n",
              "      <td>0.482880</td>\n",
              "      <td>1</td>\n",
              "    </tr>\n",
              "    <tr>\n",
              "      <th>35172</th>\n",
              "      <td>1</td>\n",
              "      <td>0.482874</td>\n",
              "      <td>1</td>\n",
              "    </tr>\n",
              "  </tbody>\n",
              "</table>\n",
              "<p>35173 rows × 3 columns</p>\n",
              "</div>"
            ],
            "text/plain": [
              "       retained_flag  predLossProb  predClass\n",
              "0                  0      0.999142          0\n",
              "1                  0      0.998970          0\n",
              "2                  0      0.998333          0\n",
              "3                  0      0.998316          0\n",
              "4                  0      0.998307          0\n",
              "...              ...           ...        ...\n",
              "35168              1      0.482880          1\n",
              "35169              1      0.482880          1\n",
              "35170              0      0.482880          1\n",
              "35171              0      0.482880          1\n",
              "35172              1      0.482874          1\n",
              "\n",
              "[35173 rows x 3 columns]"
            ]
          },
          "metadata": {
            "tags": []
          },
          "execution_count": 98
        }
      ]
    },
    {
      "cell_type": "code",
      "metadata": {
        "id": "NacPHojdRDuU",
        "colab_type": "code",
        "colab": {}
      },
      "source": [
        "risky['cumNumOfCustomer'] = list(range(1, risky.shape[0] + 1 ))"
      ],
      "execution_count": 0,
      "outputs": []
    },
    {
      "cell_type": "code",
      "metadata": {
        "id": "0toqF5DhQ5nb",
        "colab_type": "code",
        "colab": {
          "base_uri": "https://localhost:8080/",
          "height": 402
        },
        "outputId": "dc983ddc-d8da-48a9-bb5e-4fc82f547384"
      },
      "source": [
        "risky"
      ],
      "execution_count": 100,
      "outputs": [
        {
          "output_type": "execute_result",
          "data": {
            "text/html": [
              "<div>\n",
              "<style scoped>\n",
              "    .dataframe tbody tr th:only-of-type {\n",
              "        vertical-align: middle;\n",
              "    }\n",
              "\n",
              "    .dataframe tbody tr th {\n",
              "        vertical-align: top;\n",
              "    }\n",
              "\n",
              "    .dataframe thead th {\n",
              "        text-align: right;\n",
              "    }\n",
              "</style>\n",
              "<table border=\"1\" class=\"dataframe\">\n",
              "  <thead>\n",
              "    <tr style=\"text-align: right;\">\n",
              "      <th></th>\n",
              "      <th>retained_flag</th>\n",
              "      <th>predLossProb</th>\n",
              "      <th>predClass</th>\n",
              "      <th>cumNumOfCustomer</th>\n",
              "    </tr>\n",
              "  </thead>\n",
              "  <tbody>\n",
              "    <tr>\n",
              "      <th>0</th>\n",
              "      <td>0</td>\n",
              "      <td>0.999142</td>\n",
              "      <td>0</td>\n",
              "      <td>1</td>\n",
              "    </tr>\n",
              "    <tr>\n",
              "      <th>1</th>\n",
              "      <td>0</td>\n",
              "      <td>0.998970</td>\n",
              "      <td>0</td>\n",
              "      <td>2</td>\n",
              "    </tr>\n",
              "    <tr>\n",
              "      <th>2</th>\n",
              "      <td>0</td>\n",
              "      <td>0.998333</td>\n",
              "      <td>0</td>\n",
              "      <td>3</td>\n",
              "    </tr>\n",
              "    <tr>\n",
              "      <th>3</th>\n",
              "      <td>0</td>\n",
              "      <td>0.998316</td>\n",
              "      <td>0</td>\n",
              "      <td>4</td>\n",
              "    </tr>\n",
              "    <tr>\n",
              "      <th>4</th>\n",
              "      <td>0</td>\n",
              "      <td>0.998307</td>\n",
              "      <td>0</td>\n",
              "      <td>5</td>\n",
              "    </tr>\n",
              "    <tr>\n",
              "      <th>...</th>\n",
              "      <td>...</td>\n",
              "      <td>...</td>\n",
              "      <td>...</td>\n",
              "      <td>...</td>\n",
              "    </tr>\n",
              "    <tr>\n",
              "      <th>35168</th>\n",
              "      <td>1</td>\n",
              "      <td>0.482880</td>\n",
              "      <td>1</td>\n",
              "      <td>35169</td>\n",
              "    </tr>\n",
              "    <tr>\n",
              "      <th>35169</th>\n",
              "      <td>1</td>\n",
              "      <td>0.482880</td>\n",
              "      <td>1</td>\n",
              "      <td>35170</td>\n",
              "    </tr>\n",
              "    <tr>\n",
              "      <th>35170</th>\n",
              "      <td>0</td>\n",
              "      <td>0.482880</td>\n",
              "      <td>1</td>\n",
              "      <td>35171</td>\n",
              "    </tr>\n",
              "    <tr>\n",
              "      <th>35171</th>\n",
              "      <td>0</td>\n",
              "      <td>0.482880</td>\n",
              "      <td>1</td>\n",
              "      <td>35172</td>\n",
              "    </tr>\n",
              "    <tr>\n",
              "      <th>35172</th>\n",
              "      <td>1</td>\n",
              "      <td>0.482874</td>\n",
              "      <td>1</td>\n",
              "      <td>35173</td>\n",
              "    </tr>\n",
              "  </tbody>\n",
              "</table>\n",
              "<p>35173 rows × 4 columns</p>\n",
              "</div>"
            ],
            "text/plain": [
              "       retained_flag  predLossProb  predClass  cumNumOfCustomer\n",
              "0                  0      0.999142          0                 1\n",
              "1                  0      0.998970          0                 2\n",
              "2                  0      0.998333          0                 3\n",
              "3                  0      0.998316          0                 4\n",
              "4                  0      0.998307          0                 5\n",
              "...              ...           ...        ...               ...\n",
              "35168              1      0.482880          1             35169\n",
              "35169              1      0.482880          1             35170\n",
              "35170              0      0.482880          1             35171\n",
              "35171              0      0.482880          1             35172\n",
              "35172              1      0.482874          1             35173\n",
              "\n",
              "[35173 rows x 4 columns]"
            ]
          },
          "metadata": {
            "tags": []
          },
          "execution_count": 100
        }
      ]
    },
    {
      "cell_type": "code",
      "metadata": {
        "id": "qwKI0UBsuOLe",
        "colab_type": "code",
        "colab": {}
      },
      "source": [
        "Churn = []\n",
        "for i in range(0, len(risky['retained_flag'])):\n",
        "  if risky['retained_flag'].iloc[i] == 0:\n",
        "    Churn.append(1)\n",
        "  else:\n",
        "    Churn.append(0)"
      ],
      "execution_count": 0,
      "outputs": []
    },
    {
      "cell_type": "code",
      "metadata": {
        "id": "-hJ0WIfxR8Ej",
        "colab_type": "code",
        "colab": {
          "base_uri": "https://localhost:8080/",
          "height": 402
        },
        "outputId": "b95361df-b41d-49f0-92ad-d720cf8789bc"
      },
      "source": [
        "risky['churnIndicator'] = Churn\n",
        "risky['cumChurn'] = risky['churnIndicator'].cumsum(axis =0)\n",
        "risky"
      ],
      "execution_count": 102,
      "outputs": [
        {
          "output_type": "execute_result",
          "data": {
            "text/html": [
              "<div>\n",
              "<style scoped>\n",
              "    .dataframe tbody tr th:only-of-type {\n",
              "        vertical-align: middle;\n",
              "    }\n",
              "\n",
              "    .dataframe tbody tr th {\n",
              "        vertical-align: top;\n",
              "    }\n",
              "\n",
              "    .dataframe thead th {\n",
              "        text-align: right;\n",
              "    }\n",
              "</style>\n",
              "<table border=\"1\" class=\"dataframe\">\n",
              "  <thead>\n",
              "    <tr style=\"text-align: right;\">\n",
              "      <th></th>\n",
              "      <th>retained_flag</th>\n",
              "      <th>predLossProb</th>\n",
              "      <th>predClass</th>\n",
              "      <th>cumNumOfCustomer</th>\n",
              "      <th>churnIndicator</th>\n",
              "      <th>cumChurn</th>\n",
              "    </tr>\n",
              "  </thead>\n",
              "  <tbody>\n",
              "    <tr>\n",
              "      <th>0</th>\n",
              "      <td>0</td>\n",
              "      <td>0.999142</td>\n",
              "      <td>0</td>\n",
              "      <td>1</td>\n",
              "      <td>1</td>\n",
              "      <td>1</td>\n",
              "    </tr>\n",
              "    <tr>\n",
              "      <th>1</th>\n",
              "      <td>0</td>\n",
              "      <td>0.998970</td>\n",
              "      <td>0</td>\n",
              "      <td>2</td>\n",
              "      <td>1</td>\n",
              "      <td>2</td>\n",
              "    </tr>\n",
              "    <tr>\n",
              "      <th>2</th>\n",
              "      <td>0</td>\n",
              "      <td>0.998333</td>\n",
              "      <td>0</td>\n",
              "      <td>3</td>\n",
              "      <td>1</td>\n",
              "      <td>3</td>\n",
              "    </tr>\n",
              "    <tr>\n",
              "      <th>3</th>\n",
              "      <td>0</td>\n",
              "      <td>0.998316</td>\n",
              "      <td>0</td>\n",
              "      <td>4</td>\n",
              "      <td>1</td>\n",
              "      <td>4</td>\n",
              "    </tr>\n",
              "    <tr>\n",
              "      <th>4</th>\n",
              "      <td>0</td>\n",
              "      <td>0.998307</td>\n",
              "      <td>0</td>\n",
              "      <td>5</td>\n",
              "      <td>1</td>\n",
              "      <td>5</td>\n",
              "    </tr>\n",
              "    <tr>\n",
              "      <th>...</th>\n",
              "      <td>...</td>\n",
              "      <td>...</td>\n",
              "      <td>...</td>\n",
              "      <td>...</td>\n",
              "      <td>...</td>\n",
              "      <td>...</td>\n",
              "    </tr>\n",
              "    <tr>\n",
              "      <th>35168</th>\n",
              "      <td>1</td>\n",
              "      <td>0.482880</td>\n",
              "      <td>1</td>\n",
              "      <td>35169</td>\n",
              "      <td>0</td>\n",
              "      <td>27784</td>\n",
              "    </tr>\n",
              "    <tr>\n",
              "      <th>35169</th>\n",
              "      <td>1</td>\n",
              "      <td>0.482880</td>\n",
              "      <td>1</td>\n",
              "      <td>35170</td>\n",
              "      <td>0</td>\n",
              "      <td>27784</td>\n",
              "    </tr>\n",
              "    <tr>\n",
              "      <th>35170</th>\n",
              "      <td>0</td>\n",
              "      <td>0.482880</td>\n",
              "      <td>1</td>\n",
              "      <td>35171</td>\n",
              "      <td>1</td>\n",
              "      <td>27785</td>\n",
              "    </tr>\n",
              "    <tr>\n",
              "      <th>35171</th>\n",
              "      <td>0</td>\n",
              "      <td>0.482880</td>\n",
              "      <td>1</td>\n",
              "      <td>35172</td>\n",
              "      <td>1</td>\n",
              "      <td>27786</td>\n",
              "    </tr>\n",
              "    <tr>\n",
              "      <th>35172</th>\n",
              "      <td>1</td>\n",
              "      <td>0.482874</td>\n",
              "      <td>1</td>\n",
              "      <td>35173</td>\n",
              "      <td>0</td>\n",
              "      <td>27786</td>\n",
              "    </tr>\n",
              "  </tbody>\n",
              "</table>\n",
              "<p>35173 rows × 6 columns</p>\n",
              "</div>"
            ],
            "text/plain": [
              "       retained_flag  predLossProb  ...  churnIndicator  cumChurn\n",
              "0                  0      0.999142  ...               1         1\n",
              "1                  0      0.998970  ...               1         2\n",
              "2                  0      0.998333  ...               1         3\n",
              "3                  0      0.998316  ...               1         4\n",
              "4                  0      0.998307  ...               1         5\n",
              "...              ...           ...  ...             ...       ...\n",
              "35168              1      0.482880  ...               0     27784\n",
              "35169              1      0.482880  ...               0     27784\n",
              "35170              0      0.482880  ...               1     27785\n",
              "35171              0      0.482880  ...               1     27786\n",
              "35172              1      0.482874  ...               0     27786\n",
              "\n",
              "[35173 rows x 6 columns]"
            ]
          },
          "metadata": {
            "tags": []
          },
          "execution_count": 102
        }
      ]
    },
    {
      "cell_type": "code",
      "metadata": {
        "id": "rkAPPtXduOOV",
        "colab_type": "code",
        "colab": {
          "base_uri": "https://localhost:8080/",
          "height": 402
        },
        "outputId": "798fb8ef-ad95-485d-f4c2-53d9c97eab1a"
      },
      "source": [
        "risky['propOfCustomer'] = risky['cumNumOfCustomer'] / 35176\n",
        "risky['propOfChurnCaptured'] = risky['cumChurn'] / 27836\n",
        "risky['lift'] = risky['propOfChurnCaptured'] / risky['propOfCustomer']\n",
        "risky"
      ],
      "execution_count": 103,
      "outputs": [
        {
          "output_type": "execute_result",
          "data": {
            "text/html": [
              "<div>\n",
              "<style scoped>\n",
              "    .dataframe tbody tr th:only-of-type {\n",
              "        vertical-align: middle;\n",
              "    }\n",
              "\n",
              "    .dataframe tbody tr th {\n",
              "        vertical-align: top;\n",
              "    }\n",
              "\n",
              "    .dataframe thead th {\n",
              "        text-align: right;\n",
              "    }\n",
              "</style>\n",
              "<table border=\"1\" class=\"dataframe\">\n",
              "  <thead>\n",
              "    <tr style=\"text-align: right;\">\n",
              "      <th></th>\n",
              "      <th>retained_flag</th>\n",
              "      <th>predLossProb</th>\n",
              "      <th>predClass</th>\n",
              "      <th>cumNumOfCustomer</th>\n",
              "      <th>churnIndicator</th>\n",
              "      <th>cumChurn</th>\n",
              "      <th>propOfCustomer</th>\n",
              "      <th>propOfChurnCaptured</th>\n",
              "      <th>lift</th>\n",
              "    </tr>\n",
              "  </thead>\n",
              "  <tbody>\n",
              "    <tr>\n",
              "      <th>0</th>\n",
              "      <td>0</td>\n",
              "      <td>0.999142</td>\n",
              "      <td>0</td>\n",
              "      <td>1</td>\n",
              "      <td>1</td>\n",
              "      <td>1</td>\n",
              "      <td>0.000028</td>\n",
              "      <td>0.000036</td>\n",
              "      <td>1.263687</td>\n",
              "    </tr>\n",
              "    <tr>\n",
              "      <th>1</th>\n",
              "      <td>0</td>\n",
              "      <td>0.998970</td>\n",
              "      <td>0</td>\n",
              "      <td>2</td>\n",
              "      <td>1</td>\n",
              "      <td>2</td>\n",
              "      <td>0.000057</td>\n",
              "      <td>0.000072</td>\n",
              "      <td>1.263687</td>\n",
              "    </tr>\n",
              "    <tr>\n",
              "      <th>2</th>\n",
              "      <td>0</td>\n",
              "      <td>0.998333</td>\n",
              "      <td>0</td>\n",
              "      <td>3</td>\n",
              "      <td>1</td>\n",
              "      <td>3</td>\n",
              "      <td>0.000085</td>\n",
              "      <td>0.000108</td>\n",
              "      <td>1.263687</td>\n",
              "    </tr>\n",
              "    <tr>\n",
              "      <th>3</th>\n",
              "      <td>0</td>\n",
              "      <td>0.998316</td>\n",
              "      <td>0</td>\n",
              "      <td>4</td>\n",
              "      <td>1</td>\n",
              "      <td>4</td>\n",
              "      <td>0.000114</td>\n",
              "      <td>0.000144</td>\n",
              "      <td>1.263687</td>\n",
              "    </tr>\n",
              "    <tr>\n",
              "      <th>4</th>\n",
              "      <td>0</td>\n",
              "      <td>0.998307</td>\n",
              "      <td>0</td>\n",
              "      <td>5</td>\n",
              "      <td>1</td>\n",
              "      <td>5</td>\n",
              "      <td>0.000142</td>\n",
              "      <td>0.000180</td>\n",
              "      <td>1.263687</td>\n",
              "    </tr>\n",
              "    <tr>\n",
              "      <th>...</th>\n",
              "      <td>...</td>\n",
              "      <td>...</td>\n",
              "      <td>...</td>\n",
              "      <td>...</td>\n",
              "      <td>...</td>\n",
              "      <td>...</td>\n",
              "      <td>...</td>\n",
              "      <td>...</td>\n",
              "      <td>...</td>\n",
              "    </tr>\n",
              "    <tr>\n",
              "      <th>35168</th>\n",
              "      <td>1</td>\n",
              "      <td>0.482880</td>\n",
              "      <td>1</td>\n",
              "      <td>35169</td>\n",
              "      <td>0</td>\n",
              "      <td>27784</td>\n",
              "      <td>0.999801</td>\n",
              "      <td>0.998132</td>\n",
              "      <td>0.998331</td>\n",
              "    </tr>\n",
              "    <tr>\n",
              "      <th>35169</th>\n",
              "      <td>1</td>\n",
              "      <td>0.482880</td>\n",
              "      <td>1</td>\n",
              "      <td>35170</td>\n",
              "      <td>0</td>\n",
              "      <td>27784</td>\n",
              "      <td>0.999829</td>\n",
              "      <td>0.998132</td>\n",
              "      <td>0.998302</td>\n",
              "    </tr>\n",
              "    <tr>\n",
              "      <th>35170</th>\n",
              "      <td>0</td>\n",
              "      <td>0.482880</td>\n",
              "      <td>1</td>\n",
              "      <td>35171</td>\n",
              "      <td>1</td>\n",
              "      <td>27785</td>\n",
              "      <td>0.999858</td>\n",
              "      <td>0.998168</td>\n",
              "      <td>0.998310</td>\n",
              "    </tr>\n",
              "    <tr>\n",
              "      <th>35171</th>\n",
              "      <td>0</td>\n",
              "      <td>0.482880</td>\n",
              "      <td>1</td>\n",
              "      <td>35172</td>\n",
              "      <td>1</td>\n",
              "      <td>27786</td>\n",
              "      <td>0.999886</td>\n",
              "      <td>0.998204</td>\n",
              "      <td>0.998317</td>\n",
              "    </tr>\n",
              "    <tr>\n",
              "      <th>35172</th>\n",
              "      <td>1</td>\n",
              "      <td>0.482874</td>\n",
              "      <td>1</td>\n",
              "      <td>35173</td>\n",
              "      <td>0</td>\n",
              "      <td>27786</td>\n",
              "      <td>0.999915</td>\n",
              "      <td>0.998204</td>\n",
              "      <td>0.998289</td>\n",
              "    </tr>\n",
              "  </tbody>\n",
              "</table>\n",
              "<p>35173 rows × 9 columns</p>\n",
              "</div>"
            ],
            "text/plain": [
              "       retained_flag  predLossProb  ...  propOfChurnCaptured      lift\n",
              "0                  0      0.999142  ...             0.000036  1.263687\n",
              "1                  0      0.998970  ...             0.000072  1.263687\n",
              "2                  0      0.998333  ...             0.000108  1.263687\n",
              "3                  0      0.998316  ...             0.000144  1.263687\n",
              "4                  0      0.998307  ...             0.000180  1.263687\n",
              "...              ...           ...  ...                  ...       ...\n",
              "35168              1      0.482880  ...             0.998132  0.998331\n",
              "35169              1      0.482880  ...             0.998132  0.998302\n",
              "35170              0      0.482880  ...             0.998168  0.998310\n",
              "35171              0      0.482880  ...             0.998204  0.998317\n",
              "35172              1      0.482874  ...             0.998204  0.998289\n",
              "\n",
              "[35173 rows x 9 columns]"
            ]
          },
          "metadata": {
            "tags": []
          },
          "execution_count": 103
        }
      ]
    },
    {
      "cell_type": "code",
      "metadata": {
        "id": "fuFkAjJYuORL",
        "colab_type": "code",
        "colab": {
          "base_uri": "https://localhost:8080/",
          "height": 67
        },
        "outputId": "6ee25bb4-fd02-4022-9f84-85ec31f16b80"
      },
      "source": [
        "risky['retained_flag'].value_counts()"
      ],
      "execution_count": 104,
      "outputs": [
        {
          "output_type": "execute_result",
          "data": {
            "text/plain": [
              "0    27786\n",
              "1     7387\n",
              "Name: retained_flag, dtype: int64"
            ]
          },
          "metadata": {
            "tags": []
          },
          "execution_count": 104
        }
      ]
    },
    {
      "cell_type": "code",
      "metadata": {
        "id": "22Gn6RCySUWu",
        "colab_type": "code",
        "colab": {
          "base_uri": "https://localhost:8080/",
          "height": 67
        },
        "outputId": "afac1d71-5035-45fc-ae99-4a9ab39aa470"
      },
      "source": [
        "risky['predClass'].value_counts()"
      ],
      "execution_count": 105,
      "outputs": [
        {
          "output_type": "execute_result",
          "data": {
            "text/plain": [
              "0    33642\n",
              "1     1531\n",
              "Name: predClass, dtype: int64"
            ]
          },
          "metadata": {
            "tags": []
          },
          "execution_count": 105
        }
      ]
    },
    {
      "cell_type": "code",
      "metadata": {
        "id": "OKsBhKKCuOUd",
        "colab_type": "code",
        "colab": {
          "base_uri": "https://localhost:8080/",
          "height": 34
        },
        "outputId": "2516900f-7679-4e10-f31e-b428acdf8cb4"
      },
      "source": [
        "avgBenefit = (decilePanel['avg_ro_labor_price'] + decilePanel['avg_ro_parts_price']).mean()\n",
        "avgBenefit"
      ],
      "execution_count": 106,
      "outputs": [
        {
          "output_type": "execute_result",
          "data": {
            "text/plain": [
              "190.85579380378846"
            ]
          },
          "metadata": {
            "tags": []
          },
          "execution_count": 106
        }
      ]
    },
    {
      "cell_type": "markdown",
      "metadata": {
        "id": "exQLOv519nyq",
        "colab_type": "text"
      },
      "source": [
        "We conduct a mock-up analysis based on comparison between the predictive label from our model and the actual label from the database. All customers are ranked from the highest lost probability to the lowest, and customers that are labeled as lost by the model will be giving out discount. If the model predicts a customer will be lost, and the actual label shows that he actually is lost in the next year, then giving out this customer discount will generate positive revenue. If the model predicts a customer will be lost, but the actual label shows that he actually is retained in the next year, then giving out this customer discount will waste money. Revenue from each customer is 190 dollars, which is based on customer average spending. And the graph shows the profit after 35% discount to each customer. So, we can see that after around 30k customers, the profit is going down, and the corresponding lost probability for this point is 56%, which means that dealers will generate positive profit if they give discounts to customers with a lost probability higher than 56%. If a customer’s lost probability is lower than 56%, this customer does not worth to give out the discount."
      ]
    },
    {
      "cell_type": "code",
      "metadata": {
        "id": "9pWOBzg36AD-",
        "colab_type": "code",
        "colab": {
          "base_uri": "https://localhost:8080/",
          "height": 34
        },
        "outputId": "a7e50202-6699-4a5d-bf6f-b00bd825e24f"
      },
      "source": [
        "discount = 0.35\n",
        "avgCost = avgBenefit*discount\n",
        "avgCost"
      ],
      "execution_count": 107,
      "outputs": [
        {
          "output_type": "execute_result",
          "data": {
            "text/plain": [
              "66.79952783132596"
            ]
          },
          "metadata": {
            "tags": []
          },
          "execution_count": 107
        }
      ]
    },
    {
      "cell_type": "code",
      "metadata": {
        "id": "Cq0G2nDB6AM7",
        "colab_type": "code",
        "colab": {}
      },
      "source": [
        "avgProfit = avgBenefit - avgCost"
      ],
      "execution_count": 0,
      "outputs": []
    },
    {
      "cell_type": "code",
      "metadata": {
        "id": "1pYIZad76AVU",
        "colab_type": "code",
        "colab": {}
      },
      "source": [
        "money = []\n",
        "for i in range(0, len(risky['retained_flag'])):\n",
        "  if risky['retained_flag'].iloc[i] == 0 and risky['predClass'].iloc[i] == 0:\n",
        "    money.append(avgProfit*(1-risky['predLossProb'].iloc[i]))\n",
        "  elif risky['retained_flag'].iloc[i] == 1 and risky['predClass'].iloc[i] == 0:\n",
        "    money.append(-avgCost)\n",
        "  elif risky['retained_flag'].iloc[i] == 0 and risky['predClass'].iloc[i] == 1:\n",
        "    money.append(-avgBenefit*risky['predLossProb'].iloc[i])\n",
        "  else:\n",
        "    money.append(0)"
      ],
      "execution_count": 0,
      "outputs": []
    },
    {
      "cell_type": "code",
      "metadata": {
        "id": "5hhdlyvS6Aae",
        "colab_type": "code",
        "colab": {}
      },
      "source": [
        "risky['profit/loss'] = money\n",
        "risky['netProfit/netLoss'] = risky['profit/loss'].cumsum(axis=0)"
      ],
      "execution_count": 0,
      "outputs": []
    },
    {
      "cell_type": "code",
      "metadata": {
        "id": "b-Ktlmlf8EUJ",
        "colab_type": "code",
        "colab": {
          "base_uri": "https://localhost:8080/",
          "height": 218
        },
        "outputId": "34c4f626-b712-4b66-a3cc-d39b1bb93d10"
      },
      "source": [
        "cutoff = risky.loc[risky['netProfit/netLoss'].idxmax()]\n",
        "cutoff"
      ],
      "execution_count": 111,
      "outputs": [
        {
          "output_type": "execute_result",
          "data": {
            "text/plain": [
              "retained_flag               0.000000\n",
              "predLossProb                0.558455\n",
              "predClass                   0.000000\n",
              "cumNumOfCustomer        30746.000000\n",
              "churnIndicator              1.000000\n",
              "cumChurn                25598.000000\n",
              "propOfCustomer              0.874062\n",
              "propOfChurnCaptured         0.919601\n",
              "lift                        1.052100\n",
              "profit/loss                54.776473\n",
              "netProfit/netLoss      201239.922830\n",
              "Name: 30745, dtype: float64"
            ]
          },
          "metadata": {
            "tags": []
          },
          "execution_count": 111
        }
      ]
    },
    {
      "cell_type": "code",
      "metadata": {
        "id": "Z11OVtxv8Eho",
        "colab_type": "code",
        "colab": {
          "base_uri": "https://localhost:8080/",
          "height": 282
        },
        "outputId": "baf098fe-cc2d-4837-84e9-48f89ba5e575"
      },
      "source": [
        "import matplotlib.pyplot as plt\n",
        "import numpy as np\n",
        "\n",
        "plt.plot(risky['cumNumOfCustomer'], risky['netProfit/netLoss'])"
      ],
      "execution_count": 112,
      "outputs": [
        {
          "output_type": "execute_result",
          "data": {
            "text/plain": [
              "[<matplotlib.lines.Line2D at 0x7f09e0f4f5c0>]"
            ]
          },
          "metadata": {
            "tags": []
          },
          "execution_count": 112
        },
        {
          "output_type": "display_data",
          "data": {
            "image/png": "[encoded data removed]",
            "text/plain": [
              "<Figure size 432x288 with 1 Axes>"
            ]
          },
          "metadata": {
            "tags": [],
            "needs_background": "light"
          }
        }
      ]
    },
    {
      "cell_type": "markdown",
      "metadata": {
        "id": "4dsKMsyy91Un",
        "colab_type": "text"
      },
      "source": [
        "Draft plot. More visualization will be generated using Power BI."
      ]
    },
    {
      "cell_type": "code",
      "metadata": {
        "id": "cRQ8q37y8Ee6",
        "colab_type": "code",
        "colab": {}
      },
      "source": [
        "from google.colab import files\n",
        "risky.to_csv('riskyForPlot.csv') \n",
        "files.download('riskyForPlot.csv')"
      ],
      "execution_count": 0,
      "outputs": []
    },
    {
      "cell_type": "code",
      "metadata": {
        "id": "2SgRMOUz8EdD",
        "colab_type": "code",
        "colab": {}
      },
      "source": [
        ""
      ],
      "execution_count": 0,
      "outputs": []
    },
    {
      "cell_type": "code",
      "metadata": {
        "id": "BleLLUaT8EXP",
        "colab_type": "code",
        "colab": {}
      },
      "source": [
        ""
      ],
      "execution_count": 0,
      "outputs": []
    }
  ]
}